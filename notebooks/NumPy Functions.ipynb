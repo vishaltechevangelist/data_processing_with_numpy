{
 "cells": [
  {
   "cell_type": "code",
   "execution_count": 1,
   "id": "f5d6030e",
   "metadata": {},
   "outputs": [],
   "source": [
    "import numpy as np"
   ]
  },
  {
   "cell_type": "code",
   "execution_count": 2,
   "id": "eede112e",
   "metadata": {},
   "outputs": [
    {
     "name": "stdout",
     "output_type": "stream",
     "text": [
      "[1 2 3]\n",
      "(3,)\n",
      "1\n"
     ]
    }
   ],
   "source": [
    "array_a = np.array([1,2,3])\n",
    "print(array_a)\n",
    "print(array_a.shape)\n",
    "print(array_a.ndim)"
   ]
  },
  {
   "cell_type": "code",
   "execution_count": 3,
   "id": "e8a24f90",
   "metadata": {},
   "outputs": [
    {
     "name": "stdout",
     "output_type": "stream",
     "text": [
      "[[1]\n",
      " [2]]\n",
      "(2, 1)\n",
      "2\n"
     ]
    }
   ],
   "source": [
    "array_b = np.array([[1],[2]])\n",
    "print(array_b)\n",
    "print(array_b.shape)\n",
    "print(array_b.ndim)"
   ]
  },
  {
   "cell_type": "code",
   "execution_count": 4,
   "id": "b832c27e",
   "metadata": {},
   "outputs": [
    {
     "name": "stdout",
     "output_type": "stream",
     "text": [
      "[[1 2 3]\n",
      " [4 5 6]]\n",
      "(2, 3)\n",
      "2\n"
     ]
    }
   ],
   "source": [
    "matrix_c = np.array([[1,2,3],[4,5,6]])\n",
    "print(matrix_c)\n",
    "print(matrix_c.shape)\n",
    "print(matrix_c.ndim)"
   ]
  },
  {
   "cell_type": "markdown",
   "id": "f03f0b4e",
   "metadata": {},
   "source": [
    "## Broadcasting universal function"
   ]
  },
  {
   "cell_type": "code",
   "execution_count": 5,
   "id": "eb77e5f7",
   "metadata": {},
   "outputs": [
    {
     "data": {
      "text/plain": [
       "array([[2, 4, 6],\n",
       "       [5, 7, 9]])"
      ]
     },
     "execution_count": 5,
     "metadata": {},
     "output_type": "execute_result"
    }
   ],
   "source": [
    "np.add(array_a, matrix_c) # array_a is vector and 2nd one is matrix"
   ]
  },
  {
   "cell_type": "code",
   "execution_count": 6,
   "id": "8c3bbe88",
   "metadata": {},
   "outputs": [
    {
     "data": {
      "text/plain": [
       "array([[2, 3, 4],\n",
       "       [6, 7, 8]])"
      ]
     },
     "execution_count": 6,
     "metadata": {},
     "output_type": "execute_result"
    }
   ],
   "source": [
    "np.add(array_b, matrix_c) # array_b is column vector and 2nd one is matrix"
   ]
  },
  {
   "cell_type": "code",
   "execution_count": 7,
   "id": "31c9348a",
   "metadata": {},
   "outputs": [
    {
     "data": {
      "text/plain": [
       "array([[2, 3, 4],\n",
       "       [3, 4, 5]])"
      ]
     },
     "execution_count": 7,
     "metadata": {},
     "output_type": "execute_result"
    }
   ],
   "source": [
    "np.add(array_a, array_b)"
   ]
  },
  {
   "cell_type": "code",
   "execution_count": null,
   "id": "7affc96e",
   "metadata": {},
   "outputs": [],
   "source": []
  }
 ],
 "metadata": {
  "kernelspec": {
   "display_name": "ds_env",
   "language": "python",
   "name": "ds_env"
  },
  "language_info": {
   "codemirror_mode": {
    "name": "ipython",
    "version": 3
   },
   "file_extension": ".py",
   "mimetype": "text/x-python",
   "name": "python",
   "nbconvert_exporter": "python",
   "pygments_lexer": "ipython3",
   "version": "3.12.9"
  }
 },
 "nbformat": 4,
 "nbformat_minor": 5
}
