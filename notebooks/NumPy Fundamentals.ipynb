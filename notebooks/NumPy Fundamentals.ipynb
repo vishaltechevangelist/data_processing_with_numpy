{
 "cells": [
  {
   "cell_type": "markdown",
   "id": "af86c331",
   "metadata": {},
   "source": [
    "# NumPy Fundamentals"
   ]
  },
  {
   "cell_type": "code",
   "execution_count": 1,
   "id": "cd15c4f1",
   "metadata": {},
   "outputs": [],
   "source": [
    "import numpy as np"
   ]
  },
  {
   "cell_type": "markdown",
   "id": "03e8a3d8",
   "metadata": {},
   "source": [
    "## Indexing"
   ]
  },
  {
   "cell_type": "code",
   "execution_count": 2,
   "id": "763df3c9",
   "metadata": {},
   "outputs": [
    {
     "data": {
      "text/plain": [
       "array([[1, 2, 3],\n",
       "       [4, 5, 6]])"
      ]
     },
     "execution_count": 2,
     "metadata": {},
     "output_type": "execute_result"
    }
   ],
   "source": [
    "array_a = np.array([[1,2,3], [4,5,6]])\n",
    "array_a"
   ]
  },
  {
   "cell_type": "markdown",
   "id": "bc9b29a4",
   "metadata": {},
   "source": [
    "## Specific Values"
   ]
  },
  {
   "cell_type": "code",
   "execution_count": 5,
   "id": "25ca1bac",
   "metadata": {},
   "outputs": [
    {
     "data": {
      "text/plain": [
       "array([4, 5, 6])"
      ]
     },
     "execution_count": 5,
     "metadata": {},
     "output_type": "execute_result"
    }
   ],
   "source": [
    "array_a[1] # array_a is 2-D"
   ]
  },
  {
   "cell_type": "code",
   "execution_count": 7,
   "id": "6210ada4",
   "metadata": {},
   "outputs": [
    {
     "data": {
      "text/plain": [
       "np.int64(2)"
      ]
     },
     "execution_count": 7,
     "metadata": {},
     "output_type": "execute_result"
    }
   ],
   "source": [
    "array_a[0][1] # 2nd element of 1st row"
   ]
  },
  {
   "cell_type": "code",
   "execution_count": 9,
   "id": "d8daca7c",
   "metadata": {},
   "outputs": [
    {
     "data": {
      "text/plain": [
       "np.int64(4)"
      ]
     },
     "execution_count": 9,
     "metadata": {},
     "output_type": "execute_result"
    }
   ],
   "source": [
    "array_a[1][0] # 1st element of 2nd row"
   ]
  },
  {
   "cell_type": "code",
   "execution_count": 11,
   "id": "92985046",
   "metadata": {},
   "outputs": [
    {
     "data": {
      "text/plain": [
       "np.int64(4)"
      ]
     },
     "execution_count": 11,
     "metadata": {},
     "output_type": "execute_result"
    }
   ],
   "source": [
    "array_a[1,0] # similar to 1st element of 2nd row"
   ]
  },
  {
   "cell_type": "code",
   "execution_count": 12,
   "id": "d2e5c7c4",
   "metadata": {},
   "outputs": [
    {
     "data": {
      "text/plain": [
       "array([1, 4])"
      ]
     },
     "execution_count": 12,
     "metadata": {},
     "output_type": "execute_result"
    }
   ],
   "source": [
    "array_a[:,0] # 1st column of array"
   ]
  },
  {
   "cell_type": "markdown",
   "id": "e89b9926",
   "metadata": {},
   "source": [
    "## Negative Indices"
   ]
  },
  {
   "cell_type": "code",
   "execution_count": 14,
   "id": "6b899388",
   "metadata": {},
   "outputs": [
    {
     "data": {
      "text/plain": [
       "np.int64(3)"
      ]
     },
     "execution_count": 14,
     "metadata": {},
     "output_type": "execute_result"
    }
   ],
   "source": [
    "array_b = np.array([1,2,3])\n",
    "array_b[-1] # print the last element in 1-D array"
   ]
  },
  {
   "cell_type": "code",
   "execution_count": 15,
   "id": "8597bbc7",
   "metadata": {},
   "outputs": [
    {
     "data": {
      "text/plain": [
       "array([4, 5, 6])"
      ]
     },
     "execution_count": 15,
     "metadata": {},
     "output_type": "execute_result"
    }
   ],
   "source": [
    "array_a[-1] # this is 2-D array, hence will print the whole last row"
   ]
  },
  {
   "cell_type": "code",
   "execution_count": 17,
   "id": "588c926f",
   "metadata": {},
   "outputs": [
    {
     "data": {
      "text/plain": [
       "array([3, 6])"
      ]
     },
     "execution_count": 17,
     "metadata": {},
     "output_type": "execute_result"
    }
   ],
   "source": [
    "array_a[:,-1] # last column of 2-D array"
   ]
  },
  {
   "cell_type": "markdown",
   "id": "da4f048d",
   "metadata": {},
   "source": [
    "## Assigning values"
   ]
  },
  {
   "cell_type": "code",
   "execution_count": 18,
   "id": "52de381b",
   "metadata": {},
   "outputs": [
    {
     "data": {
      "text/plain": [
       "array([[1, 2, 9],\n",
       "       [4, 5, 6]])"
      ]
     },
     "execution_count": 18,
     "metadata": {},
     "output_type": "execute_result"
    }
   ],
   "source": [
    "array_a[0,2] = 9\n",
    "array_a"
   ]
  },
  {
   "cell_type": "code",
   "execution_count": 19,
   "id": "2c27a842",
   "metadata": {},
   "outputs": [
    {
     "data": {
      "text/plain": [
       "array([[8, 8, 8],\n",
       "       [4, 5, 6]])"
      ]
     },
     "execution_count": 19,
     "metadata": {},
     "output_type": "execute_result"
    }
   ],
   "source": [
    "array_a[0] = 8 # all 1st row element change to value '8'\n",
    "array_a"
   ]
  },
  {
   "cell_type": "code",
   "execution_count": 20,
   "id": "ad7aa402",
   "metadata": {},
   "outputs": [
    {
     "data": {
      "text/plain": [
       "array([[8, 9, 8],\n",
       "       [4, 9, 6]])"
      ]
     },
     "execution_count": 20,
     "metadata": {},
     "output_type": "execute_result"
    }
   ],
   "source": [
    "array_a[:,1] = 9 # all 2nd column element change to value '9'\n",
    "array_a"
   ]
  },
  {
   "cell_type": "code",
   "execution_count": 21,
   "id": "3cfe076e",
   "metadata": {},
   "outputs": [
    {
     "data": {
      "text/plain": [
       "array([[8, 7, 8],\n",
       "       [4, 9, 6]])"
      ]
     },
     "execution_count": 21,
     "metadata": {},
     "output_type": "execute_result"
    }
   ],
   "source": [
    "list_a = [8,7,8]\n",
    "array_a[0] = list_a\n",
    "array_a"
   ]
  },
  {
   "cell_type": "code",
   "execution_count": 22,
   "id": "324b4933",
   "metadata": {},
   "outputs": [
    {
     "data": {
      "text/plain": [
       "numpy.ndarray"
      ]
     },
     "execution_count": 22,
     "metadata": {},
     "output_type": "execute_result"
    }
   ],
   "source": [
    "type(array_a[0])"
   ]
  },
  {
   "cell_type": "code",
   "execution_count": 23,
   "id": "89a0559a",
   "metadata": {},
   "outputs": [
    {
     "data": {
      "text/plain": [
       "array([[1, 1, 1],\n",
       "       [4, 9, 6]])"
      ]
     },
     "execution_count": 23,
     "metadata": {},
     "output_type": "execute_result"
    }
   ],
   "source": [
    "list_b = [1]\n",
    "array_a[0] = list_b\n",
    "array_a"
   ]
  },
  {
   "cell_type": "code",
   "execution_count": 25,
   "id": "fdc95413",
   "metadata": {},
   "outputs": [
    {
     "data": {
      "text/plain": [
       "array([[5, 5, 5],\n",
       "       [5, 5, 5]])"
      ]
     },
     "execution_count": 25,
     "metadata": {},
     "output_type": "execute_result"
    }
   ],
   "source": [
    "# Go through all the rows and assign each one to each same value i.e '5' \n",
    "array_a[:] = 5  \n",
    "array_a"
   ]
  },
  {
   "cell_type": "markdown",
   "id": "d462da50",
   "metadata": {},
   "source": [
    "## Element wise properties"
   ]
  },
  {
   "cell_type": "code",
   "execution_count": 44,
   "id": "7c09b636",
   "metadata": {},
   "outputs": [
    {
     "data": {
      "text/plain": [
       "array([7, 8, 9])"
      ]
     },
     "execution_count": 44,
     "metadata": {},
     "output_type": "execute_result"
    }
   ],
   "source": [
    "array_a = np.array([7,8,9])\n",
    "array_a"
   ]
  },
  {
   "cell_type": "code",
   "execution_count": 27,
   "id": "6f99312b",
   "metadata": {},
   "outputs": [
    {
     "data": {
      "text/plain": [
       "array([[1, 2, 3],\n",
       "       [4, 5, 6]])"
      ]
     },
     "execution_count": 27,
     "metadata": {},
     "output_type": "execute_result"
    }
   ],
   "source": [
    "array_b = np.array([[1,2,3], [4,5,6]])\n",
    "array_b"
   ]
  },
  {
   "cell_type": "code",
   "execution_count": 28,
   "id": "d1783694",
   "metadata": {},
   "outputs": [
    {
     "data": {
      "text/plain": [
       "array([ 9, 10, 11])"
      ]
     },
     "execution_count": 28,
     "metadata": {},
     "output_type": "execute_result"
    }
   ],
   "source": [
    "# add 2 in each element in 1-D array\n",
    "array_a + 2"
   ]
  },
  {
   "cell_type": "code",
   "execution_count": 29,
   "id": "2bfb5465",
   "metadata": {},
   "outputs": [
    {
     "data": {
      "text/plain": [
       "array([[3, 4, 5],\n",
       "       [6, 7, 8]])"
      ]
     },
     "execution_count": 29,
     "metadata": {},
     "output_type": "execute_result"
    }
   ],
   "source": [
    "array_b + 2"
   ]
  },
  {
   "cell_type": "code",
   "execution_count": 32,
   "id": "7579413b",
   "metadata": {},
   "outputs": [
    {
     "data": {
      "text/plain": [
       "array([5, 6, 7])"
      ]
     },
     "execution_count": 32,
     "metadata": {},
     "output_type": "execute_result"
    }
   ],
   "source": [
    "# subtract 2 in each element in 1-D array\n",
    "array_a - 2"
   ]
  },
  {
   "cell_type": "code",
   "execution_count": 34,
   "id": "4c8427a8",
   "metadata": {},
   "outputs": [
    {
     "data": {
      "text/plain": [
       "array([[-1,  0,  1],\n",
       "       [ 2,  3,  4]])"
      ]
     },
     "execution_count": 34,
     "metadata": {},
     "output_type": "execute_result"
    }
   ],
   "source": [
    "# subtract 2 in each element in 2-D array\n",
    "array_b - 2"
   ]
  },
  {
   "cell_type": "code",
   "execution_count": 36,
   "id": "a02821a9",
   "metadata": {},
   "outputs": [
    {
     "data": {
      "text/plain": [
       "array([14, 16, 18])"
      ]
     },
     "execution_count": 36,
     "metadata": {},
     "output_type": "execute_result"
    }
   ],
   "source": [
    "# multiply each elemant in 1-D array\n",
    "array_a * 2"
   ]
  },
  {
   "cell_type": "code",
   "execution_count": 37,
   "id": "e8ab96d6",
   "metadata": {},
   "outputs": [
    {
     "data": {
      "text/plain": [
       "array([[ 2,  4,  6],\n",
       "       [ 8, 10, 12]])"
      ]
     },
     "execution_count": 37,
     "metadata": {},
     "output_type": "execute_result"
    }
   ],
   "source": [
    "array_b * 2"
   ]
  },
  {
   "cell_type": "code",
   "execution_count": 42,
   "id": "e467fb93",
   "metadata": {},
   "outputs": [
    {
     "data": {
      "text/plain": [
       "array([2, 4, 6])"
      ]
     },
     "execution_count": 42,
     "metadata": {},
     "output_type": "execute_result"
    }
   ],
   "source": [
    "# all operation only alter the value, not change the shape or size\n",
    "array_a + array_b[0]"
   ]
  },
  {
   "cell_type": "code",
   "execution_count": 45,
   "id": "c22585cd",
   "metadata": {},
   "outputs": [
    {
     "data": {
      "text/plain": [
       "array([11, 13, 15])"
      ]
     },
     "execution_count": 45,
     "metadata": {},
     "output_type": "execute_result"
    }
   ],
   "source": [
    "array_a + array_b[1]"
   ]
  },
  {
   "cell_type": "code",
   "execution_count": 46,
   "id": "ece88268",
   "metadata": {},
   "outputs": [
    {
     "data": {
      "text/plain": [
       "3"
      ]
     },
     "execution_count": 46,
     "metadata": {},
     "output_type": "execute_result"
    }
   ],
   "source": [
    "array_a.size"
   ]
  },
  {
   "cell_type": "code",
   "execution_count": 48,
   "id": "4044e12b",
   "metadata": {},
   "outputs": [
    {
     "data": {
      "text/plain": [
       "3"
      ]
     },
     "execution_count": 48,
     "metadata": {},
     "output_type": "execute_result"
    }
   ],
   "source": [
    "# size of the element (row) in 2-D arrays \n",
    "array_b[0].size"
   ]
  },
  {
   "cell_type": "code",
   "execution_count": 50,
   "id": "81c730e8",
   "metadata": {},
   "outputs": [
    {
     "data": {
      "text/plain": [
       "array([[ 8, 10, 12],\n",
       "       [11, 13, 15]])"
      ]
     },
     "execution_count": 50,
     "metadata": {},
     "output_type": "execute_result"
    }
   ],
   "source": [
    "array_a + array_b"
   ]
  },
  {
   "cell_type": "code",
   "execution_count": 51,
   "id": "38214521",
   "metadata": {},
   "outputs": [
    {
     "data": {
      "text/plain": [
       "array([[ 7, 16, 27],\n",
       "       [28, 40, 54]])"
      ]
     },
     "execution_count": 51,
     "metadata": {},
     "output_type": "execute_result"
    }
   ],
   "source": [
    "array_a * array_b"
   ]
  },
  {
   "cell_type": "code",
   "execution_count": null,
   "id": "35bb2a75",
   "metadata": {},
   "outputs": [],
   "source": []
  }
 ],
 "metadata": {
  "kernelspec": {
   "display_name": "ds_env",
   "language": "python",
   "name": "ds_env"
  },
  "language_info": {
   "codemirror_mode": {
    "name": "ipython",
    "version": 3
   },
   "file_extension": ".py",
   "mimetype": "text/x-python",
   "name": "python",
   "nbconvert_exporter": "python",
   "pygments_lexer": "ipython3",
   "version": "3.12.9"
  }
 },
 "nbformat": 4,
 "nbformat_minor": 5
}
