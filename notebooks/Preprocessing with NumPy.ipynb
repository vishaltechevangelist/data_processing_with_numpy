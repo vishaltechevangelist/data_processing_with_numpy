{
 "cells": [
  {
   "cell_type": "code",
   "execution_count": 66,
   "id": "d9e0d7d7",
   "metadata": {},
   "outputs": [],
   "source": [
    "import numpy as np\n",
    "import os\n",
    "file_path = \"/Users/vishalsaxena/Documents/DS_Workspace/data_processing_with_numpy/data/\""
   ]
  },
  {
   "cell_type": "markdown",
   "id": "d151fde3",
   "metadata": {},
   "source": [
    "### Checking for Missing Values"
   ]
  },
  {
   "cell_type": "code",
   "execution_count": 2,
   "id": "027c4003",
   "metadata": {},
   "outputs": [
    {
     "data": {
      "text/plain": [
       "array([[ 2000.,    40.,   365.,  3121.,  4241., 13621.],\n",
       "       [ 2000.,    40.,   365.,  3061.,  4171., 15041.],\n",
       "       [ 1000.,    40.,   365.,  2160.,  3280., 15340.],\n",
       "       ...,\n",
       "       [ 2000.,    40.,   365.,  4201.,  5001., 16600.],\n",
       "       [ 1000.,    40.,   365.,  2080.,  3320., 15600.],\n",
       "       [ 2000.,    40.,   365.,  4601.,  4601., 16600.]], shape=(1043, 6))"
      ]
     },
     "execution_count": 2,
     "metadata": {},
     "output_type": "execute_result"
    }
   ],
   "source": [
    "# this is complete dataset hence no error\n",
    "lending_co_data_numeric = np.loadtxt(file_path + \"/raw/Lending-company-Numeric.csv\", delimiter=\",\")\n",
    "lending_co_data_numeric"
   ]
  },
  {
   "cell_type": "code",
   "execution_count": 3,
   "id": "fadd7db8",
   "metadata": {},
   "outputs": [
    {
     "data": {
      "text/plain": [
       "array([[False, False, False, False, False, False],\n",
       "       [False, False, False, False, False, False],\n",
       "       [False, False, False, False, False, False],\n",
       "       ...,\n",
       "       [False, False, False, False, False, False],\n",
       "       [False, False, False, False, False, False],\n",
       "       [False, False, False, False, False, False]], shape=(1043, 6))"
      ]
     },
     "execution_count": 3,
     "metadata": {},
     "output_type": "execute_result"
    }
   ],
   "source": [
    "# To check for NaN or missing values\n",
    "np.isnan(lending_co_data_numeric)"
   ]
  },
  {
   "cell_type": "code",
   "execution_count": 4,
   "id": "557effdb",
   "metadata": {},
   "outputs": [
    {
     "data": {
      "text/plain": [
       "np.int64(0)"
      ]
     },
     "execution_count": 4,
     "metadata": {},
     "output_type": "execute_result"
    }
   ],
   "source": [
    "# Add all elements to check if any missing values\n",
    "np.isnan(lending_co_data_numeric).sum()"
   ]
  },
  {
   "cell_type": "code",
   "execution_count": 69,
   "id": "6c4e132c",
   "metadata": {},
   "outputs": [
    {
     "data": {
      "text/plain": [
       "array([[ 2000.,    40.,   365.,  3121.,  4241., 13621.],\n",
       "       [ 2000.,    40.,   365.,  3061.,  4171., 15041.],\n",
       "       [ 1000.,    40.,   365.,  2160.,  3280., 15340.],\n",
       "       ...,\n",
       "       [   nan,    40.,   365.,  4201.,  5001., 16600.],\n",
       "       [ 1000.,    40.,   365.,  2080.,  3320., 15600.],\n",
       "       [ 2000.,    40.,   365.,  4601.,  4601., 16600.]], shape=(1043, 6))"
      ]
     },
     "execution_count": 69,
     "metadata": {},
     "output_type": "execute_result"
    }
   ],
   "source": [
    "# loading data having NaN values\n",
    "lending_co_data_numeric_nan = np.genfromtxt(file_path + \"/raw/Lending-company-Numeric-NAN.csv\", delimiter=\";\")\n",
    "lending_co_data_numeric_nan"
   ]
  },
  {
   "cell_type": "code",
   "execution_count": 6,
   "id": "5cbf71b1",
   "metadata": {},
   "outputs": [
    {
     "data": {
      "text/plain": [
       "np.int64(260)"
      ]
     },
     "execution_count": 6,
     "metadata": {},
     "output_type": "execute_result"
    }
   ],
   "source": [
    "# To get the number of missing element\n",
    "np.isnan(lending_co_data_numeric_nan).sum()"
   ]
  },
  {
   "cell_type": "code",
   "execution_count": 7,
   "id": "72b3d708",
   "metadata": {},
   "outputs": [
    {
     "data": {
      "text/plain": [
       "np.float64(64002.0)"
      ]
     },
     "execution_count": 7,
     "metadata": {},
     "output_type": "execute_result"
    }
   ],
   "source": [
    "# filler value should greater than highest value\n",
    "temporary_fill = np.nanmax(lending_co_data_numeric_nan).round() + 1\n",
    "temporary_fill"
   ]
  },
  {
   "cell_type": "code",
   "execution_count": 8,
   "id": "6560021c",
   "metadata": {},
   "outputs": [
    {
     "data": {
      "text/plain": [
       "array([[2.0000e+03, 4.0000e+01, 3.6500e+02, 3.1210e+03, 4.2410e+03,\n",
       "        1.3621e+04],\n",
       "       [2.0000e+03, 4.0000e+01, 3.6500e+02, 3.0610e+03, 4.1710e+03,\n",
       "        1.5041e+04],\n",
       "       [1.0000e+03, 4.0000e+01, 3.6500e+02, 2.1600e+03, 3.2800e+03,\n",
       "        1.5340e+04],\n",
       "       ...,\n",
       "       [6.4002e+04, 4.0000e+01, 3.6500e+02, 4.2010e+03, 5.0010e+03,\n",
       "        1.6600e+04],\n",
       "       [1.0000e+03, 4.0000e+01, 3.6500e+02, 2.0800e+03, 3.3200e+03,\n",
       "        1.5600e+04],\n",
       "       [2.0000e+03, 4.0000e+01, 3.6500e+02, 4.6010e+03, 4.6010e+03,\n",
       "        1.6600e+04]], shape=(1043, 6))"
      ]
     },
     "execution_count": 8,
     "metadata": {},
     "output_type": "execute_result"
    }
   ],
   "source": [
    "# fill the missing value with temporary fill\n",
    "lending_co_data_numeric_nan = np.genfromtxt(file_path + \"/raw/Lending-company-Numeric-NAN.csv\", \n",
    "                                            delimiter=\";\",\n",
    "                                           filling_values=temporary_fill)\n",
    "lending_co_data_numeric_nan"
   ]
  },
  {
   "cell_type": "code",
   "execution_count": 9,
   "id": "bd05eefe",
   "metadata": {},
   "outputs": [
    {
     "data": {
      "text/plain": [
       "np.int64(0)"
      ]
     },
     "execution_count": 9,
     "metadata": {},
     "output_type": "execute_result"
    }
   ],
   "source": [
    "# confirm for any NAN in processed dataset\n",
    "np.isnan(lending_co_data_numeric_nan).sum()"
   ]
  },
  {
   "cell_type": "markdown",
   "id": "0822606d",
   "metadata": {},
   "source": [
    "### Substituting missing values"
   ]
  },
  {
   "cell_type": "code",
   "execution_count": 10,
   "id": "2ac9a131",
   "metadata": {},
   "outputs": [
    {
     "data": {
      "text/plain": [
       "array([[ 2000.,    40.,   365.,  3121.,  4241., 13621.],\n",
       "       [ 2000.,    40.,   365.,  3061.,  4171., 15041.],\n",
       "       [ 1000.,    40.,   365.,  2160.,  3280., 15340.],\n",
       "       ...,\n",
       "       [   nan,    40.,   365.,  4201.,  5001., 16600.],\n",
       "       [ 1000.,    40.,   365.,  2080.,  3320., 15600.],\n",
       "       [ 2000.,    40.,   365.,  4601.,  4601., 16600.]], shape=(1043, 6))"
      ]
     },
     "execution_count": 10,
     "metadata": {},
     "output_type": "execute_result"
    }
   ],
   "source": [
    "lending_co_data_numeric_nan = np.genfromtxt(file_path + \"/raw/Lending-company-Numeric-NAN.csv\", \n",
    "                                            delimiter=\";\")\n",
    "lending_co_data_numeric_nan"
   ]
  },
  {
   "cell_type": "code",
   "execution_count": 11,
   "id": "a32dc121",
   "metadata": {},
   "outputs": [
    {
     "data": {
      "text/plain": [
       "array([ 2250.25,    46.11,   365.  ,  3895.99,  5160.75, 16571.44])"
      ]
     },
     "execution_count": 11,
     "metadata": {},
     "output_type": "execute_result"
    }
   ],
   "source": [
    "temporary_mean = np.nanmean(lending_co_data_numeric_nan, axis=0).round(2)\n",
    "temporary_mean"
   ]
  },
  {
   "cell_type": "code",
   "execution_count": 12,
   "id": "2e8bac56",
   "metadata": {},
   "outputs": [
    {
     "data": {
      "text/plain": [
       "array([[2.0000e+03, 4.0000e+01, 3.6500e+02, 3.1210e+03, 4.2410e+03,\n",
       "        1.3621e+04],\n",
       "       [2.0000e+03, 4.0000e+01, 3.6500e+02, 3.0610e+03, 4.1710e+03,\n",
       "        1.5041e+04],\n",
       "       [1.0000e+03, 4.0000e+01, 3.6500e+02, 2.1600e+03, 3.2800e+03,\n",
       "        1.5340e+04],\n",
       "       ...,\n",
       "       [6.4002e+04, 4.0000e+01, 3.6500e+02, 4.2010e+03, 5.0010e+03,\n",
       "        1.6600e+04],\n",
       "       [1.0000e+03, 4.0000e+01, 3.6500e+02, 2.0800e+03, 3.3200e+03,\n",
       "        1.5600e+04],\n",
       "       [2.0000e+03, 4.0000e+01, 3.6500e+02, 4.6010e+03, 4.6010e+03,\n",
       "        1.6600e+04]], shape=(1043, 6))"
      ]
     },
     "execution_count": 12,
     "metadata": {},
     "output_type": "execute_result"
    }
   ],
   "source": [
    "# gen array from text file, fill value greater than sum\n",
    "lending_co_data_numeric_nan = np.genfromtxt(file_path + '/raw/Lending-company-Numeric-NAN.csv',\n",
    "                                           delimiter=\";\",\n",
    "                                           filling_values=temporary_fill)\n",
    "lending_co_data_numeric_nan"
   ]
  },
  {
   "cell_type": "code",
   "execution_count": 13,
   "id": "b33e120e",
   "metadata": {},
   "outputs": [
    {
     "data": {
      "text/plain": [
       "array([2000.  , 2000.  , 1000.  , ..., 2250.25, 1000.  , 2000.  ],\n",
       "      shape=(1043,))"
      ]
     },
     "execution_count": 13,
     "metadata": {},
     "output_type": "execute_result"
    }
   ],
   "source": [
    "lending_co_data_numeric_nan[:,0] = np.where(lending_co_data_numeric_nan[:,0] == temporary_fill, \n",
    "                                            temporary_mean[0], \n",
    "                                           lending_co_data_numeric_nan[:,0])\n",
    "lending_co_data_numeric_nan[:,0]"
   ]
  },
  {
   "cell_type": "code",
   "execution_count": 14,
   "id": "cbba27b4",
   "metadata": {},
   "outputs": [
    {
     "data": {
      "text/plain": [
       "np.float64(2250.0)"
      ]
     },
     "execution_count": 14,
     "metadata": {},
     "output_type": "execute_result"
    }
   ],
   "source": [
    "np.mean(lending_co_data_numeric_nan[:,0], axis=0).round()"
   ]
  },
  {
   "cell_type": "code",
   "execution_count": 15,
   "id": "f151e577",
   "metadata": {},
   "outputs": [
    {
     "data": {
      "text/plain": [
       "array([ 2250.24784276,   147.54266539,   458.99137105,  3798.16347076,\n",
       "        5054.71188878, 16214.436721  ])"
      ]
     },
     "execution_count": 15,
     "metadata": {},
     "output_type": "execute_result"
    }
   ],
   "source": [
    "for i in range(lending_co_data_numeric_nan.shape[1]):\n",
    "    lending_co_data_numeric_nan[:,i] = np.where(lending_co_data_numeric_nan[:,i] == temporary_fill, \n",
    "                                            temporary_mean[0], \n",
    "                                           lending_co_data_numeric_nan[:,i])\n",
    "lending_co_data_numeric_nan.mean(0)"
   ]
  },
  {
   "cell_type": "markdown",
   "id": "17533263",
   "metadata": {},
   "source": [
    "### Reshaping"
   ]
  },
  {
   "cell_type": "code",
   "execution_count": 16,
   "id": "ad6febaf",
   "metadata": {},
   "outputs": [
    {
     "data": {
      "text/plain": [
       "array([[ 2000.,    40.,   365.,  3121.,  4241., 13621.],\n",
       "       [ 2000.,    40.,   365.,  3061.,  4171., 15041.],\n",
       "       [ 1000.,    40.,   365.,  2160.,  3280., 15340.],\n",
       "       ...,\n",
       "       [ 2000.,    40.,   365.,  4201.,  5001., 16600.],\n",
       "       [ 1000.,    40.,   365.,  2080.,  3320., 15600.],\n",
       "       [ 2000.,    40.,   365.,  4601.,  4601., 16600.]], shape=(1043, 6))"
      ]
     },
     "execution_count": 16,
     "metadata": {},
     "output_type": "execute_result"
    }
   ],
   "source": [
    "lending_co_data_numeric = np.genfromtxt(file_path + \"/raw/Lending-company-Numeric.csv\", delimiter=\",\")\n",
    "lending_co_data_numeric"
   ]
  },
  {
   "cell_type": "code",
   "execution_count": 17,
   "id": "9735ff29",
   "metadata": {},
   "outputs": [
    {
     "data": {
      "text/plain": [
       "(1043, 6)"
      ]
     },
     "execution_count": 17,
     "metadata": {},
     "output_type": "execute_result"
    }
   ],
   "source": [
    "lending_co_data_numeric.shape"
   ]
  },
  {
   "cell_type": "code",
   "execution_count": 18,
   "id": "8e2945f1",
   "metadata": {},
   "outputs": [
    {
     "data": {
      "text/plain": [
       "array([[ 2000.,    40.,   365., ...,   365.,  1581.,  3041.],\n",
       "       [12277.,  2000.,    40., ...,    50.,   365.,  5350.],\n",
       "       [ 6850., 15150.,  1000., ...,  2000.,    40.,   365.],\n",
       "       [ 3101.,  4351., 16600., ..., 16600.,  2000.,    40.],\n",
       "       [  365.,  3441.,  4661., ...,  8450., 22250.,  2000.],\n",
       "       [   40.,   365.,  3701., ...,  4601.,  4601., 16600.]],\n",
       "      shape=(6, 1043))"
      ]
     },
     "execution_count": 18,
     "metadata": {},
     "output_type": "execute_result"
    }
   ],
   "source": [
    "np.reshape(lending_co_data_numeric, (6,1043))"
   ]
  },
  {
   "cell_type": "code",
   "execution_count": 19,
   "id": "791b2a03",
   "metadata": {},
   "outputs": [
    {
     "data": {
      "text/plain": [
       "array([[ 2000.,  2000.,  1000., ...,  2000.,  1000.,  2000.],\n",
       "       [   40.,    40.,    40., ...,    40.,    40.,    40.],\n",
       "       [  365.,   365.,   365., ...,   365.,   365.,   365.],\n",
       "       [ 3121.,  3061.,  2160., ...,  4201.,  2080.,  4601.],\n",
       "       [ 4241.,  4171.,  3280., ...,  5001.,  3320.,  4601.],\n",
       "       [13621., 15041., 15340., ..., 16600., 15600., 16600.]],\n",
       "      shape=(6, 1043))"
      ]
     },
     "execution_count": 19,
     "metadata": {},
     "output_type": "execute_result"
    }
   ],
   "source": [
    "# short version of reshape with (6, 1043)\n",
    "np.transpose(lending_co_data_numeric)"
   ]
  },
  {
   "cell_type": "code",
   "execution_count": 20,
   "id": "c97423d7",
   "metadata": {},
   "outputs": [
    {
     "data": {
      "text/plain": [
       "array([[ 2000.,    40.,   365., ...,    50.,   365.,  5350.],\n",
       "       [ 6850., 15150.,  1000., ..., 16600.,  2000.,    40.],\n",
       "       [  365.,  3441.,  4661., ...,  4601.,  4601., 16600.]],\n",
       "      shape=(3, 2086))"
      ]
     },
     "execution_count": 20,
     "metadata": {},
     "output_type": "execute_result"
    }
   ],
   "source": [
    "np.reshape(lending_co_data_numeric, (3, 2086))"
   ]
  },
  {
   "cell_type": "code",
   "execution_count": 21,
   "id": "40659d81",
   "metadata": {},
   "outputs": [
    {
     "data": {
      "text/plain": [
       "array([[[ 2000.,    40.,   365., ...,   365.,  1581.,  3041.],\n",
       "        [12277.,  2000.,    40., ...,    50.,   365.,  5350.],\n",
       "        [ 6850., 15150.,  1000., ...,  2000.,    40.,   365.]],\n",
       "\n",
       "       [[ 3101.,  4351., 16600., ..., 16600.,  2000.,    40.],\n",
       "        [  365.,  3441.,  4661., ...,  8450., 22250.,  2000.],\n",
       "        [   40.,   365.,  3701., ...,  4601.,  4601., 16600.]]],\n",
       "      shape=(2, 3, 1043))"
      ]
     },
     "execution_count": 21,
     "metadata": {},
     "output_type": "execute_result"
    }
   ],
   "source": [
    "# changing to 2d to 3d\n",
    "np.reshape(lending_co_data_numeric, (2,3,1043))"
   ]
  },
  {
   "cell_type": "markdown",
   "id": "a870a3cd",
   "metadata": {},
   "source": [
    "### Removing Values"
   ]
  },
  {
   "cell_type": "code",
   "execution_count": 22,
   "id": "fc8ded6b",
   "metadata": {},
   "outputs": [
    {
     "data": {
      "text/plain": [
       "array([[ 2000.,    40.,   365.,  3121.,  4241., 13621.],\n",
       "       [ 2000.,    40.,   365.,  3061.,  4171., 15041.],\n",
       "       [ 1000.,    40.,   365.,  2160.,  3280., 15340.],\n",
       "       ...,\n",
       "       [ 2000.,    40.,   365.,  4201.,  5001., 16600.],\n",
       "       [ 1000.,    40.,   365.,  2080.,  3320., 15600.],\n",
       "       [ 2000.,    40.,   365.,  4601.,  4601., 16600.]], shape=(1043, 6))"
      ]
     },
     "execution_count": 22,
     "metadata": {},
     "output_type": "execute_result"
    }
   ],
   "source": [
    "np.delete\n",
    "lending_co_data_numeric"
   ]
  },
  {
   "cell_type": "code",
   "execution_count": 23,
   "id": "f049acfe",
   "metadata": {},
   "outputs": [
    {
     "data": {
      "text/plain": [
       "array([   40.,   365.,  3121., ...,  4601.,  4601., 16600.], shape=(6257,))"
      ]
     },
     "execution_count": 23,
     "metadata": {},
     "output_type": "execute_result"
    }
   ],
   "source": [
    "np.delete(lending_co_data_numeric, 0)"
   ]
  },
  {
   "cell_type": "code",
   "execution_count": 24,
   "id": "a1c6483c",
   "metadata": {},
   "outputs": [
    {
     "data": {
      "text/plain": [
       "6258"
      ]
     },
     "execution_count": 24,
     "metadata": {},
     "output_type": "execute_result"
    }
   ],
   "source": [
    "lending_co_data_numeric.size"
   ]
  },
  {
   "cell_type": "code",
   "execution_count": 25,
   "id": "e85f7657",
   "metadata": {},
   "outputs": [
    {
     "data": {
      "text/plain": [
       "array([[ 2000.,    40.,   365.,  3061.,  4171., 15041.],\n",
       "       [ 1000.,    40.,   365.,  2160.,  3280., 15340.],\n",
       "       [ 2000.,    40.,   365.,  3041.,  4241., 15321.],\n",
       "       ...,\n",
       "       [ 2000.,    40.,   365.,  4201.,  5001., 16600.],\n",
       "       [ 1000.,    40.,   365.,  2080.,  3320., 15600.],\n",
       "       [ 2000.,    40.,   365.,  4601.,  4601., 16600.]], shape=(1042, 6))"
      ]
     },
     "execution_count": 25,
     "metadata": {},
     "output_type": "execute_result"
    }
   ],
   "source": [
    "np.delete(lending_co_data_numeric, 0, axis=0)"
   ]
  },
  {
   "cell_type": "code",
   "execution_count": 26,
   "id": "4b7ac4e4",
   "metadata": {},
   "outputs": [
    {
     "data": {
      "text/plain": [
       "array([[   40.,   365.,  3121.,  4241., 13621.],\n",
       "       [   40.,   365.,  3061.,  4171., 15041.],\n",
       "       [   40.,   365.,  2160.,  3280., 15340.],\n",
       "       ...,\n",
       "       [   40.,   365.,  4201.,  5001., 16600.],\n",
       "       [   40.,   365.,  2080.,  3320., 15600.],\n",
       "       [   40.,   365.,  4601.,  4601., 16600.]], shape=(1043, 5))"
      ]
     },
     "execution_count": 26,
     "metadata": {},
     "output_type": "execute_result"
    }
   ],
   "source": [
    "np.delete(lending_co_data_numeric, 0, axis=1)"
   ]
  },
  {
   "cell_type": "code",
   "execution_count": 27,
   "id": "3652c8b9",
   "metadata": {},
   "outputs": [
    {
     "data": {
      "text/plain": [
       "array([[ 2000.,    40.,   365.,  3121.,  4241., 13621.],\n",
       "       [ 1000.,    40.,   365.,  2160.,  3280., 15340.],\n",
       "       [ 2000.,    40.,   365.,  3041.,  4241., 15321.],\n",
       "       ...,\n",
       "       [ 2000.,    40.,   365.,  4201.,  5001., 16600.],\n",
       "       [ 1000.,    40.,   365.,  2080.,  3320., 15600.],\n",
       "       [ 2000.,    40.,   365.,  4601.,  4601., 16600.]], shape=(1042, 6))"
      ]
     },
     "execution_count": 27,
     "metadata": {},
     "output_type": "execute_result"
    }
   ],
   "source": [
    "# delete 2nd row\n",
    "np.delete(lending_co_data_numeric, 1, axis=0)"
   ]
  },
  {
   "cell_type": "code",
   "execution_count": 28,
   "id": "dc8f33ca",
   "metadata": {},
   "outputs": [
    {
     "data": {
      "text/plain": [
       "array([[ 2000.,   365.,  3121.,  4241., 13621.],\n",
       "       [ 2000.,   365.,  3061.,  4171., 15041.],\n",
       "       [ 1000.,   365.,  2160.,  3280., 15340.],\n",
       "       ...,\n",
       "       [ 2000.,   365.,  4201.,  5001., 16600.],\n",
       "       [ 1000.,   365.,  2080.,  3320., 15600.],\n",
       "       [ 2000.,   365.,  4601.,  4601., 16600.]], shape=(1043, 5))"
      ]
     },
     "execution_count": 28,
     "metadata": {},
     "output_type": "execute_result"
    }
   ],
   "source": [
    "# delete 2nd column\n",
    "np.delete(lending_co_data_numeric, 1, axis=1)"
   ]
  },
  {
   "cell_type": "code",
   "execution_count": 29,
   "id": "9f1caf76",
   "metadata": {},
   "outputs": [
    {
     "data": {
      "text/plain": [
       "array([[ 2000.,    40.,   365.,  3121.,  4241., 13621.],\n",
       "       [ 1000.,    40.,   365.,  2160.,  3280., 15340.],\n",
       "       [ 2000.,    50.,   365.,  3470.,  4820., 13720.],\n",
       "       ...,\n",
       "       [ 2000.,    40.,   365.,  4240.,  5440., 16600.],\n",
       "       [ 2000.,    40.,   365.,  4201.,  5001., 16600.],\n",
       "       [ 1000.,    40.,   365.,  2080.,  3320., 15600.]], shape=(1040, 6))"
      ]
     },
     "execution_count": 29,
     "metadata": {},
     "output_type": "execute_result"
    }
   ],
   "source": [
    "np.delete(lending_co_data_numeric, (1,3,1042), axis=0)"
   ]
  },
  {
   "cell_type": "code",
   "execution_count": 30,
   "id": "fff45710",
   "metadata": {},
   "outputs": [
    {
     "data": {
      "text/plain": [
       "array([[ 2000.,   365.,  4241., 13621.],\n",
       "       [ 2000.,   365.,  4171., 15041.],\n",
       "       [ 1000.,   365.,  3280., 15340.],\n",
       "       ...,\n",
       "       [ 2000.,   365.,  5001., 16600.],\n",
       "       [ 1000.,   365.,  3320., 15600.],\n",
       "       [ 2000.,   365.,  4601., 16600.]], shape=(1043, 4))"
      ]
     },
     "execution_count": 30,
     "metadata": {},
     "output_type": "execute_result"
    }
   ],
   "source": [
    "np.delete(lending_co_data_numeric, (1,3), axis=1)"
   ]
  },
  {
   "cell_type": "markdown",
   "id": "1607143e",
   "metadata": {},
   "source": [
    "### Sorting Data"
   ]
  },
  {
   "cell_type": "code",
   "execution_count": 31,
   "id": "8a60a737",
   "metadata": {},
   "outputs": [
    {
     "data": {
      "text/plain": [
       "array([[   40.,   365.,  2000.,  3121.,  4241., 13621.],\n",
       "       [   40.,   365.,  2000.,  3061.,  4171., 15041.],\n",
       "       [   40.,   365.,  1000.,  2160.,  3280., 15340.],\n",
       "       ...,\n",
       "       [   40.,   365.,  2000.,  4201.,  5001., 16600.],\n",
       "       [   40.,   365.,  1000.,  2080.,  3320., 15600.],\n",
       "       [   40.,   365.,  2000.,  4601.,  4601., 16600.]], shape=(1043, 6))"
      ]
     },
     "execution_count": 31,
     "metadata": {},
     "output_type": "execute_result"
    }
   ],
   "source": [
    "np.sort(lending_co_data_numeric)"
   ]
  },
  {
   "cell_type": "code",
   "execution_count": 32,
   "id": "61c1fab3",
   "metadata": {},
   "outputs": [
    {
     "data": {
      "text/plain": [
       "array([[ 2000.,    40.,   365.,  3121.,  4241., 13621.],\n",
       "       [ 2000.,    40.,   365.,  3061.,  4171., 15041.],\n",
       "       [ 1000.,    40.,   365.,  2160.,  3280., 15340.],\n",
       "       ...,\n",
       "       [ 2000.,    40.,   365.,  4201.,  5001., 16600.],\n",
       "       [ 1000.,    40.,   365.,  2080.,  3320., 15600.],\n",
       "       [ 2000.,    40.,   365.,  4601.,  4601., 16600.]], shape=(1043, 6))"
      ]
     },
     "execution_count": 32,
     "metadata": {},
     "output_type": "execute_result"
    }
   ],
   "source": [
    "lending_co_data_numeric"
   ]
  },
  {
   "cell_type": "code",
   "execution_count": 33,
   "id": "41d4994a",
   "metadata": {},
   "outputs": [
    {
     "data": {
      "text/plain": [
       "array([[ 1.0000e+03,  3.5000e+01,  3.6500e+02, -2.8700e+03, -2.8700e+03,\n",
       "        -3.5000e+02],\n",
       "       [ 1.0000e+03,  3.5000e+01,  3.6500e+02, -2.5500e+03, -2.1000e+03,\n",
       "         1.5000e+02],\n",
       "       [ 1.0000e+03,  3.5000e+01,  3.6500e+02, -2.4500e+03, -2.0000e+03,\n",
       "         1.1000e+03],\n",
       "       ...,\n",
       "       [ 9.0000e+03,  1.2500e+02,  3.6500e+02,  1.6751e+04,  1.8751e+04,\n",
       "         5.4625e+04],\n",
       "       [ 9.0000e+03,  1.6500e+02,  3.6500e+02,  1.7650e+04,  2.0001e+04,\n",
       "         5.4625e+04],\n",
       "       [ 9.0000e+03,  1.6500e+02,  3.6500e+02,  1.9001e+04,  2.2001e+04,\n",
       "         6.4001e+04]], shape=(1043, 6))"
      ]
     },
     "execution_count": 33,
     "metadata": {},
     "output_type": "execute_result"
    }
   ],
   "source": [
    "np.sort(lending_co_data_numeric, axis=0)"
   ]
  },
  {
   "cell_type": "code",
   "execution_count": 34,
   "id": "5d96823d",
   "metadata": {},
   "outputs": [],
   "source": [
    "np.set_printoptions(suppress=True)"
   ]
  },
  {
   "cell_type": "code",
   "execution_count": 35,
   "id": "32d354bb",
   "metadata": {},
   "outputs": [
    {
     "data": {
      "text/plain": [
       "array([[ 1000.,    35.,   365., -2870., -2870.,  -350.],\n",
       "       [ 1000.,    35.,   365., -2550., -2100.,   150.],\n",
       "       [ 1000.,    35.,   365., -2450., -2000.,  1100.],\n",
       "       ...,\n",
       "       [ 9000.,   125.,   365., 16751., 18751., 54625.],\n",
       "       [ 9000.,   165.,   365., 17650., 20001., 54625.],\n",
       "       [ 9000.,   165.,   365., 19001., 22001., 64001.]], shape=(1043, 6))"
      ]
     },
     "execution_count": 35,
     "metadata": {},
     "output_type": "execute_result"
    }
   ],
   "source": [
    "np.sort(lending_co_data_numeric, axis=0)"
   ]
  },
  {
   "cell_type": "code",
   "execution_count": 36,
   "id": "13e7525e",
   "metadata": {},
   "outputs": [
    {
     "data": {
      "text/plain": [
       "array([[   40.,   365.,  2000.,  3121.,  4241., 13621.],\n",
       "       [   40.,   365.,  2000.,  3061.,  4171., 15041.],\n",
       "       [   40.,   365.,  1000.,  2160.,  3280., 15340.],\n",
       "       ...,\n",
       "       [   40.,   365.,  2000.,  4201.,  5001., 16600.],\n",
       "       [   40.,   365.,  1000.,  2080.,  3320., 15600.],\n",
       "       [   40.,   365.,  2000.,  4601.,  4601., 16600.]], shape=(1043, 6))"
      ]
     },
     "execution_count": 36,
     "metadata": {},
     "output_type": "execute_result"
    }
   ],
   "source": [
    "np.sort(lending_co_data_numeric, axis=-1)"
   ]
  },
  {
   "cell_type": "code",
   "execution_count": 37,
   "id": "aa9d7504",
   "metadata": {},
   "outputs": [
    {
     "data": {
      "text/plain": [
       "array([-2870., -2870., -2550., ..., 54625., 54625., 64001.], shape=(6258,))"
      ]
     },
     "execution_count": 37,
     "metadata": {},
     "output_type": "execute_result"
    }
   ],
   "source": [
    "np.sort(lending_co_data_numeric, axis=None)"
   ]
  },
  {
   "cell_type": "code",
   "execution_count": 38,
   "id": "e000b0fd",
   "metadata": {},
   "outputs": [
    {
     "data": {
      "text/plain": [
       "array([[13621.,  4241.,  3121.,  2000.,   365.,    40.],\n",
       "       [15041.,  4171.,  3061.,  2000.,   365.,    40.],\n",
       "       [15340.,  3280.,  2160.,  1000.,   365.,    40.],\n",
       "       ...,\n",
       "       [16600.,  5001.,  4201.,  2000.,   365.,    40.],\n",
       "       [15600.,  3320.,  2080.,  1000.,   365.,    40.],\n",
       "       [16600.,  4601.,  4601.,  2000.,   365.,    40.]], shape=(1043, 6))"
      ]
     },
     "execution_count": 38,
     "metadata": {},
     "output_type": "execute_result"
    }
   ],
   "source": [
    "# sorted the array in descending use -ve and multiply with -1\n",
    "-np.sort(-lending_co_data_numeric)"
   ]
  },
  {
   "cell_type": "markdown",
   "id": "ae8306a2",
   "metadata": {},
   "source": [
    "## Argument functions\n",
    "### np.argsort()"
   ]
  },
  {
   "cell_type": "code",
   "execution_count": 39,
   "id": "7b88f86a",
   "metadata": {},
   "outputs": [
    {
     "data": {
      "text/plain": [
       "array([[ 2000.,    40.,   365.,  3121.,  4241., 13621.],\n",
       "       [ 2000.,    40.,   365.,  3061.,  4171., 15041.],\n",
       "       [ 1000.,    40.,   365.,  2160.,  3280., 15340.],\n",
       "       ...,\n",
       "       [ 2000.,    40.,   365.,  4201.,  5001., 16600.],\n",
       "       [ 1000.,    40.,   365.,  2080.,  3320., 15600.],\n",
       "       [ 2000.,    40.,   365.,  4601.,  4601., 16600.]], shape=(1043, 6))"
      ]
     },
     "execution_count": 39,
     "metadata": {},
     "output_type": "execute_result"
    }
   ],
   "source": [
    "lending_co_data_numeric"
   ]
  },
  {
   "cell_type": "code",
   "execution_count": 40,
   "id": "d2bbaf75",
   "metadata": {},
   "outputs": [
    {
     "data": {
      "text/plain": [
       "array([[1, 2, 0, 3, 4, 5],\n",
       "       [1, 2, 0, 3, 4, 5],\n",
       "       [1, 2, 0, 3, 4, 5],\n",
       "       ...,\n",
       "       [1, 2, 0, 3, 4, 5],\n",
       "       [1, 2, 0, 3, 4, 5],\n",
       "       [1, 2, 0, 3, 4, 5]], shape=(1043, 6))"
      ]
     },
     "execution_count": 40,
     "metadata": {},
     "output_type": "execute_result"
    }
   ],
   "source": [
    "np.argsort(lending_co_data_numeric)"
   ]
  },
  {
   "cell_type": "code",
   "execution_count": 41,
   "id": "61fb9336",
   "metadata": {},
   "outputs": [
    {
     "data": {
      "text/plain": [
       "array([[   40.,   365.,  2000.,  3121.,  4241., 13621.],\n",
       "       [   40.,   365.,  2000.,  3061.,  4171., 15041.],\n",
       "       [   40.,   365.,  1000.,  2160.,  3280., 15340.],\n",
       "       ...,\n",
       "       [   40.,   365.,  2000.,  4201.,  5001., 16600.],\n",
       "       [   40.,   365.,  1000.,  2080.,  3320., 15600.],\n",
       "       [   40.,   365.,  2000.,  4601.,  4601., 16600.]], shape=(1043, 6))"
      ]
     },
     "execution_count": 41,
     "metadata": {},
     "output_type": "execute_result"
    }
   ],
   "source": [
    "np.sort(lending_co_data_numeric)"
   ]
  },
  {
   "cell_type": "code",
   "execution_count": 42,
   "id": "edc1b65d",
   "metadata": {},
   "outputs": [
    {
     "data": {
      "text/plain": [
       "array([[ 537,  443,    0,   32,   32,  482],\n",
       "       [ 639,  327,  687,  166,  166,  493],\n",
       "       [ 849,  432,  688,   85,   85,  166],\n",
       "       ...,\n",
       "       [  27,  326,  355,  568, 1019,  568],\n",
       "       [ 277,   27,  357,  718, 1033,  534],\n",
       "       [ 420,  408, 1042,  912,  912,   27]], shape=(1043, 6))"
      ]
     },
     "execution_count": 42,
     "metadata": {},
     "output_type": "execute_result"
    }
   ],
   "source": [
    "np.argsort(lending_co_data_numeric, axis=0)"
   ]
  },
  {
   "cell_type": "code",
   "execution_count": 43,
   "id": "f53e82d3",
   "metadata": {},
   "outputs": [
    {
     "data": {
      "text/plain": [
       "np.float64(365.0)"
      ]
     },
     "execution_count": 43,
     "metadata": {},
     "output_type": "execute_result"
    }
   ],
   "source": [
    "lending_co_data_numeric[0,2]"
   ]
  },
  {
   "cell_type": "code",
   "execution_count": 44,
   "id": "e38d438c",
   "metadata": {},
   "outputs": [
    {
     "data": {
      "text/plain": [
       "np.float64(365.0)"
      ]
     },
     "execution_count": 44,
     "metadata": {},
     "output_type": "execute_result"
    }
   ],
   "source": [
    "np.max(lending_co_data_numeric[:,2])"
   ]
  },
  {
   "cell_type": "code",
   "execution_count": 45,
   "id": "6cde34c0",
   "metadata": {},
   "outputs": [
    {
     "data": {
      "text/plain": [
       "np.float64(-350.0)"
      ]
     },
     "execution_count": 45,
     "metadata": {},
     "output_type": "execute_result"
    }
   ],
   "source": [
    "lending_co_data_numeric[482, 5]"
   ]
  },
  {
   "cell_type": "code",
   "execution_count": 46,
   "id": "32002acf",
   "metadata": {},
   "outputs": [
    {
     "data": {
      "text/plain": [
       "np.float64(-350.0)"
      ]
     },
     "execution_count": 46,
     "metadata": {},
     "output_type": "execute_result"
    }
   ],
   "source": [
    "np.min(lending_co_data_numeric[:,5])"
   ]
  },
  {
   "cell_type": "code",
   "execution_count": 47,
   "id": "1ffc96ef",
   "metadata": {},
   "outputs": [
    {
     "data": {
      "text/plain": [
       "array([[ 1000.,    35.,   365., -2870., -2870.,  -350.],\n",
       "       [ 1000.,    35.,   365., -2550., -2100.,   150.],\n",
       "       [ 1000.,    35.,   365., -2450., -2000.,  1100.],\n",
       "       ...,\n",
       "       [ 9000.,   125.,   365., 16751., 18751., 54625.],\n",
       "       [ 9000.,   165.,   365., 17650., 20001., 54625.],\n",
       "       [ 9000.,   165.,   365., 19001., 22001., 64001.]], shape=(1043, 6))"
      ]
     },
     "execution_count": 47,
     "metadata": {},
     "output_type": "execute_result"
    }
   ],
   "source": [
    "np.sort(lending_co_data_numeric, axis=0)"
   ]
  },
  {
   "cell_type": "code",
   "execution_count": 48,
   "id": "474d8594",
   "metadata": {},
   "outputs": [
    {
     "data": {
      "text/plain": [
       "array([537, 639, 849, ...,  27, 277, 420], shape=(1043,))"
      ]
     },
     "execution_count": 48,
     "metadata": {},
     "output_type": "execute_result"
    }
   ],
   "source": [
    "np.argsort(lending_co_data_numeric[:,0])"
   ]
  },
  {
   "cell_type": "code",
   "execution_count": 49,
   "id": "e2d69d07",
   "metadata": {},
   "outputs": [
    {
     "data": {
      "text/plain": [
       "array([[ 1000.,    40.,   365.,  2200.,  3400., 15600.],\n",
       "       [ 1000.,    40.,   365.,  2200.,  3800., 15600.],\n",
       "       [ 1000.,    40.,   365.,  2000.,  3950., 15600.],\n",
       "       ...,\n",
       "       [ 9000.,   165.,   365., 14501., 16846., 64001.],\n",
       "       [ 9000.,   125.,   365., 12001., 15751., 38626.],\n",
       "       [ 9000.,   125.,   365., 12251., 14251., 25626.]], shape=(1043, 6))"
      ]
     },
     "execution_count": 49,
     "metadata": {},
     "output_type": "execute_result"
    }
   ],
   "source": [
    "condition_sorted_data = lending_co_data_numeric[np.argsort(lending_co_data_numeric[:,0])]\n",
    "condition_sorted_data"
   ]
  },
  {
   "cell_type": "code",
   "execution_count": 50,
   "id": "48e17644",
   "metadata": {},
   "outputs": [
    {
     "data": {
      "text/plain": [
       "array([-2870., -2550., -2450., ..., 16751., 17650., 19001.], shape=(1043,))"
      ]
     },
     "execution_count": 50,
     "metadata": {},
     "output_type": "execute_result"
    }
   ],
   "source": [
    "np.sort(lending_co_data_numeric[:,3])"
   ]
  },
  {
   "cell_type": "code",
   "execution_count": 51,
   "id": "d598451a",
   "metadata": {},
   "outputs": [],
   "source": [
    "# condition_sorted_data = lending_co_data_numeric[np.sort(lending_co_data_numeric[:,3])]"
   ]
  },
  {
   "cell_type": "code",
   "execution_count": 52,
   "id": "dcaca16b",
   "metadata": {},
   "outputs": [
    {
     "data": {
      "text/plain": [
       "array([[ 537,  443,    0,   32,   32,  482],\n",
       "       [ 639,  327,  687,  166,  166,  493],\n",
       "       [ 849,  432,  688,   85,   85,  166],\n",
       "       ...,\n",
       "       [  27,  326,  355,  568, 1019,  568],\n",
       "       [ 277,   27,  357,  718, 1033,  534],\n",
       "       [ 420,  408, 1042,  912,  912,   27]], shape=(1043, 6))"
      ]
     },
     "execution_count": 52,
     "metadata": {},
     "output_type": "execute_result"
    }
   ],
   "source": [
    "lending_co_data_numeric.argsort(axis=0)"
   ]
  },
  {
   "cell_type": "code",
   "execution_count": 53,
   "id": "2a378bab",
   "metadata": {},
   "outputs": [
    {
     "data": {
      "text/plain": [
       "array([[ 2000.,    40.,   365.,  3121.,  4241., 13621.],\n",
       "       [ 2000.,    40.,   365.,  3061.,  4171., 15041.],\n",
       "       [ 1000.,    40.,   365.,  2160.,  3280., 15340.],\n",
       "       ...,\n",
       "       [ 2000.,    40.,   365.,  4201.,  5001., 16600.],\n",
       "       [ 1000.,    40.,   365.,  2080.,  3320., 15600.],\n",
       "       [ 2000.,    40.,   365.,  4601.,  4601., 16600.]], shape=(1043, 6))"
      ]
     },
     "execution_count": 53,
     "metadata": {},
     "output_type": "execute_result"
    }
   ],
   "source": [
    "lending_co_data_numeric # does"
   ]
  },
  {
   "cell_type": "code",
   "execution_count": 54,
   "id": "56763f1c",
   "metadata": {},
   "outputs": [
    {
     "data": {
      "text/plain": [
       "array([[   40.,   365.,  2000.,  3121.,  4241., 13621.],\n",
       "       [   40.,   365.,  2000.,  3061.,  4171., 15041.],\n",
       "       [   40.,   365.,  1000.,  2160.,  3280., 15340.],\n",
       "       ...,\n",
       "       [   40.,   365.,  2000.,  4201.,  5001., 16600.],\n",
       "       [   40.,   365.,  1000.,  2080.,  3320., 15600.],\n",
       "       [   40.,   365.,  2000.,  4601.,  4601., 16600.]], shape=(1043, 6))"
      ]
     },
     "execution_count": 54,
     "metadata": {},
     "output_type": "execute_result"
    }
   ],
   "source": [
    "np.sort(lending_co_data_numeric)"
   ]
  },
  {
   "cell_type": "code",
   "execution_count": 55,
   "id": "26a926de",
   "metadata": {},
   "outputs": [],
   "source": [
    "# print(lending_co_data_numeric.sort())"
   ]
  },
  {
   "cell_type": "markdown",
   "id": "c98d70e8",
   "metadata": {},
   "source": [
    "### np.argwhere()"
   ]
  },
  {
   "cell_type": "code",
   "execution_count": 56,
   "id": "d4fd8d9d",
   "metadata": {},
   "outputs": [
    {
     "data": {
      "text/plain": [
       "array([[   0,    0],\n",
       "       [   0,    1],\n",
       "       [   0,    2],\n",
       "       ...,\n",
       "       [1042,    3],\n",
       "       [1042,    4],\n",
       "       [1042,    5]], shape=(6256, 2))"
      ]
     },
     "execution_count": 56,
     "metadata": {},
     "output_type": "execute_result"
    }
   ],
   "source": [
    "np.argwhere(lending_co_data_numeric)"
   ]
  },
  {
   "cell_type": "code",
   "execution_count": 57,
   "id": "95a2a8ca",
   "metadata": {},
   "outputs": [
    {
     "data": {
      "text/plain": [
       "array([[116,   4],\n",
       "       [430,   3]])"
      ]
     },
     "execution_count": 57,
     "metadata": {},
     "output_type": "execute_result"
    }
   ],
   "source": [
    "np.argwhere(lending_co_data_numeric == False)"
   ]
  },
  {
   "cell_type": "code",
   "execution_count": 58,
   "id": "4eeee2ac",
   "metadata": {},
   "outputs": [
    {
     "data": {
      "text/plain": [
       "array([ 1000.,    50.,   365., -1450.,     0., 13850.])"
      ]
     },
     "execution_count": 58,
     "metadata": {},
     "output_type": "execute_result"
    }
   ],
   "source": [
    "lending_co_data_numeric[116]"
   ]
  },
  {
   "cell_type": "code",
   "execution_count": 59,
   "id": "d7297e8e",
   "metadata": {},
   "outputs": [
    {
     "data": {
      "text/plain": [
       "array([1000.,   50.,  365.,    0.,  550., 5650.])"
      ]
     },
     "execution_count": 59,
     "metadata": {},
     "output_type": "execute_result"
    }
   ],
   "source": [
    "lending_co_data_numeric[430]"
   ]
  },
  {
   "cell_type": "code",
   "execution_count": 62,
   "id": "98a975e4",
   "metadata": {},
   "outputs": [
    {
     "data": {
      "text/plain": [
       "array([[   0,    1],\n",
       "       [   0,    2],\n",
       "       [   1,    1],\n",
       "       ...,\n",
       "       [1041,    2],\n",
       "       [1042,    1],\n",
       "       [1042,    2]], shape=(2200, 2))"
      ]
     },
     "execution_count": 62,
     "metadata": {},
     "output_type": "execute_result"
    }
   ],
   "source": [
    "np.argwhere(lending_co_data_numeric < 1000)"
   ]
  },
  {
   "cell_type": "code",
   "execution_count": 61,
   "id": "97759eaf",
   "metadata": {},
   "outputs": [
    {
     "data": {
      "text/plain": [
       "array([[ 2000.,    40.,   365.,  3121.,  4241., 13621.],\n",
       "       [ 2000.,    40.,   365.,  3061.,  4171., 15041.],\n",
       "       [ 1000.,    40.,   365.,  2160.,  3280., 15340.],\n",
       "       ...,\n",
       "       [ 2000.,    40.,   365.,  4201.,  5001., 16600.],\n",
       "       [ 1000.,    40.,   365.,  2080.,  3320., 15600.],\n",
       "       [ 2000.,    40.,   365.,  4601.,  4601., 16600.]], shape=(1043, 6))"
      ]
     },
     "execution_count": 61,
     "metadata": {},
     "output_type": "execute_result"
    }
   ],
   "source": [
    "lending_co_data_numeric"
   ]
  },
  {
   "cell_type": "code",
   "execution_count": 63,
   "id": "26ad151e",
   "metadata": {},
   "outputs": [
    {
     "data": {
      "text/plain": [
       "array([[   0,    1],\n",
       "       [   1,    1],\n",
       "       [   2,    1],\n",
       "       ...,\n",
       "       [1040,    1],\n",
       "       [1041,    1],\n",
       "       [1042,    1]], shape=(1132, 2))"
      ]
     },
     "execution_count": 63,
     "metadata": {},
     "output_type": "execute_result"
    }
   ],
   "source": [
    "np.argwhere((lending_co_data_numeric < 1000) & (lending_co_data_numeric % 2 == 0))"
   ]
  },
  {
   "cell_type": "code",
   "execution_count": 77,
   "id": "67114948",
   "metadata": {},
   "outputs": [
    {
     "data": {
      "text/plain": [
       "array([[ 2000.,    40.,   365.,  3121.,  4241., 13621.],\n",
       "       [ 2000.,    40.,   365.,  3061.,  4171., 15041.],\n",
       "       [ 1000.,    40.,   365.,  2160.,  3280., 15340.],\n",
       "       ...,\n",
       "       [   nan,    40.,   365.,  4201.,  5001., 16600.],\n",
       "       [ 1000.,    40.,   365.,  2080.,  3320., 15600.],\n",
       "       [ 2000.,    40.,   365.,  4601.,  4601., 16600.]], shape=(1043, 6))"
      ]
     },
     "execution_count": 77,
     "metadata": {},
     "output_type": "execute_result"
    }
   ],
   "source": [
    "lending_co_data_numeric_nan_again = np.genfromtxt(os.path.join(file_path, 'raw/Lending-company-Numeric-NAN.csv'),\n",
    "                                                 delimiter=\";\")\n",
    "lending_co_data_numeric_nan_again"
   ]
  },
  {
   "cell_type": "code",
   "execution_count": 78,
   "id": "2eb7f530",
   "metadata": {},
   "outputs": [
    {
     "data": {
      "text/plain": [
       "np.int64(260)"
      ]
     },
     "execution_count": 78,
     "metadata": {},
     "output_type": "execute_result"
    }
   ],
   "source": [
    "np.isnan(lending_co_data_numeric_nan_again).sum()"
   ]
  },
  {
   "cell_type": "code",
   "execution_count": 80,
   "id": "00e69ad4",
   "metadata": {},
   "outputs": [
    {
     "data": {
      "text/plain": [
       "array([[  11,    3],\n",
       "       [  15,    3],\n",
       "       [  27,    3],\n",
       "       [  58,    3],\n",
       "       [  60,    4],\n",
       "       [  85,    4],\n",
       "       [ 117,    5],\n",
       "       [ 152,    1],\n",
       "       [ 152,    2],\n",
       "       [ 152,    4],\n",
       "       [ 172,    1],\n",
       "       [ 175,    1],\n",
       "       [ 175,    2],\n",
       "       [ 176,    3],\n",
       "       [ 177,    4],\n",
       "       [ 178,    5],\n",
       "       [ 211,    3],\n",
       "       [ 229,    0],\n",
       "       [ 230,    1],\n",
       "       [ 237,    1],\n",
       "       [ 247,    3],\n",
       "       [ 251,    5],\n",
       "       [ 252,    4],\n",
       "       [ 258,    1],\n",
       "       [ 260,    3],\n",
       "       [ 262,    4],\n",
       "       [ 271,    5],\n",
       "       [ 272,    4],\n",
       "       [ 284,    2],\n",
       "       [ 284,    3],\n",
       "       [ 297,    1],\n",
       "       [ 297,    2],\n",
       "       [ 300,    3],\n",
       "       [ 315,    3],\n",
       "       [ 315,    5],\n",
       "       [ 327,    4],\n",
       "       [ 336,    4],\n",
       "       [ 343,    0],\n",
       "       [ 344,    2],\n",
       "       [ 346,    2],\n",
       "       [ 363,    3],\n",
       "       [ 375,    3],\n",
       "       [ 377,    2],\n",
       "       [ 398,    5],\n",
       "       [ 416,    4],\n",
       "       [ 428,    0],\n",
       "       [ 432,    1],\n",
       "       [ 433,    3],\n",
       "       [ 434,    2],\n",
       "       [ 440,    3],\n",
       "       [ 441,    1],\n",
       "       [ 446,    2],\n",
       "       [ 455,    1],\n",
       "       [ 456,    2],\n",
       "       [ 458,    2],\n",
       "       [ 461,    3],\n",
       "       [ 467,    4],\n",
       "       [ 468,    0],\n",
       "       [ 469,    3],\n",
       "       [ 470,    0],\n",
       "       [ 481,    1],\n",
       "       [ 482,    3],\n",
       "       [ 484,    4],\n",
       "       [ 489,    0],\n",
       "       [ 493,    5],\n",
       "       [ 499,    0],\n",
       "       [ 504,    3],\n",
       "       [ 506,    1],\n",
       "       [ 517,    4],\n",
       "       [ 518,    0],\n",
       "       [ 521,    2],\n",
       "       [ 530,    5],\n",
       "       [ 532,    3],\n",
       "       [ 534,    5],\n",
       "       [ 547,    3],\n",
       "       [ 549,    5],\n",
       "       [ 553,    5],\n",
       "       [ 554,    5],\n",
       "       [ 559,    3],\n",
       "       [ 566,    0],\n",
       "       [ 566,    1],\n",
       "       [ 566,    2],\n",
       "       [ 567,    0],\n",
       "       [ 567,    1],\n",
       "       [ 567,    2],\n",
       "       [ 581,    1],\n",
       "       [ 581,    2],\n",
       "       [ 582,    1],\n",
       "       [ 582,    2],\n",
       "       [ 583,    1],\n",
       "       [ 583,    2],\n",
       "       [ 593,    3],\n",
       "       [ 594,    3],\n",
       "       [ 595,    3],\n",
       "       [ 596,    3],\n",
       "       [ 609,    4],\n",
       "       [ 609,    5],\n",
       "       [ 610,    4],\n",
       "       [ 610,    5],\n",
       "       [ 611,    4],\n",
       "       [ 611,    5],\n",
       "       [ 612,    4],\n",
       "       [ 612,    5],\n",
       "       [ 623,    2],\n",
       "       [ 623,    3],\n",
       "       [ 624,    2],\n",
       "       [ 624,    3],\n",
       "       [ 625,    2],\n",
       "       [ 625,    3],\n",
       "       [ 626,    2],\n",
       "       [ 626,    3],\n",
       "       [ 627,    2],\n",
       "       [ 627,    3],\n",
       "       [ 636,    0],\n",
       "       [ 637,    0],\n",
       "       [ 637,    4],\n",
       "       [ 637,    5],\n",
       "       [ 638,    0],\n",
       "       [ 638,    4],\n",
       "       [ 638,    5],\n",
       "       [ 639,    4],\n",
       "       [ 639,    5],\n",
       "       [ 640,    4],\n",
       "       [ 640,    5],\n",
       "       [ 641,    4],\n",
       "       [ 641,    5],\n",
       "       [ 653,    1],\n",
       "       [ 653,    2],\n",
       "       [ 653,    3],\n",
       "       [ 653,    4],\n",
       "       [ 654,    1],\n",
       "       [ 654,    2],\n",
       "       [ 654,    3],\n",
       "       [ 654,    4],\n",
       "       [ 655,    1],\n",
       "       [ 655,    2],\n",
       "       [ 655,    3],\n",
       "       [ 655,    4],\n",
       "       [ 685,    2],\n",
       "       [ 686,    0],\n",
       "       [ 701,    4],\n",
       "       [ 704,    2],\n",
       "       [ 724,    1],\n",
       "       [ 724,    2],\n",
       "       [ 730,    1],\n",
       "       [ 730,    2],\n",
       "       [ 730,    3],\n",
       "       [ 731,    1],\n",
       "       [ 731,    2],\n",
       "       [ 731,    3],\n",
       "       [ 732,    1],\n",
       "       [ 732,    2],\n",
       "       [ 732,    3],\n",
       "       [ 733,    1],\n",
       "       [ 733,    2],\n",
       "       [ 733,    3],\n",
       "       [ 742,    4],\n",
       "       [ 747,    3],\n",
       "       [ 755,    1],\n",
       "       [ 758,    1],\n",
       "       [ 760,    1],\n",
       "       [ 764,    0],\n",
       "       [ 764,    1],\n",
       "       [ 764,    2],\n",
       "       [ 764,    3],\n",
       "       [ 764,    4],\n",
       "       [ 764,    5],\n",
       "       [ 765,    3],\n",
       "       [ 775,    1],\n",
       "       [ 775,    2],\n",
       "       [ 775,    3],\n",
       "       [ 776,    1],\n",
       "       [ 776,    2],\n",
       "       [ 776,    3],\n",
       "       [ 777,    1],\n",
       "       [ 777,    2],\n",
       "       [ 777,    3],\n",
       "       [ 778,    1],\n",
       "       [ 778,    2],\n",
       "       [ 778,    3],\n",
       "       [ 787,    4],\n",
       "       [ 788,    1],\n",
       "       [ 790,    2],\n",
       "       [ 794,    3],\n",
       "       [ 795,    5],\n",
       "       [ 796,    1],\n",
       "       [ 796,    4],\n",
       "       [ 800,    0],\n",
       "       [ 801,    1],\n",
       "       [ 802,    1],\n",
       "       [ 803,    2],\n",
       "       [ 805,    0],\n",
       "       [ 809,    0],\n",
       "       [ 810,    0],\n",
       "       [ 811,    0],\n",
       "       [ 812,    1],\n",
       "       [ 820,    0],\n",
       "       [ 820,    3],\n",
       "       [ 820,    4],\n",
       "       [ 822,    2],\n",
       "       [ 823,    2],\n",
       "       [ 825,    0],\n",
       "       [ 830,    1],\n",
       "       [ 830,    2],\n",
       "       [ 836,    3],\n",
       "       [ 837,    3],\n",
       "       [ 838,    3],\n",
       "       [ 839,    4],\n",
       "       [ 843,    2],\n",
       "       [ 856,    0],\n",
       "       [ 856,    1],\n",
       "       [ 856,    3],\n",
       "       [ 856,    4],\n",
       "       [ 856,    5],\n",
       "       [ 857,    0],\n",
       "       [ 858,    1],\n",
       "       [ 870,    0],\n",
       "       [ 870,    2],\n",
       "       [ 870,    3],\n",
       "       [ 872,    0],\n",
       "       [ 873,    0],\n",
       "       [ 874,    1],\n",
       "       [ 890,    1],\n",
       "       [ 890,    2],\n",
       "       [ 890,    3],\n",
       "       [ 909,    1],\n",
       "       [ 910,    0],\n",
       "       [ 912,    0],\n",
       "       [ 912,    2],\n",
       "       [ 912,    3],\n",
       "       [ 912,    4],\n",
       "       [ 928,    1],\n",
       "       [ 928,    2],\n",
       "       [ 928,    3],\n",
       "       [ 929,    1],\n",
       "       [ 929,    2],\n",
       "       [ 929,    3],\n",
       "       [ 930,    3],\n",
       "       [ 958,    2],\n",
       "       [ 959,    3],\n",
       "       [ 960,    3],\n",
       "       [1024,    0],\n",
       "       [1024,    2],\n",
       "       [1026,    2],\n",
       "       [1026,    4],\n",
       "       [1028,    0],\n",
       "       [1028,    3],\n",
       "       [1028,    4],\n",
       "       [1029,    0],\n",
       "       [1030,    1],\n",
       "       [1030,    5],\n",
       "       [1032,    0],\n",
       "       [1032,    5],\n",
       "       [1034,    3],\n",
       "       [1035,    4],\n",
       "       [1036,    2],\n",
       "       [1037,    1],\n",
       "       [1038,    4],\n",
       "       [1039,    3],\n",
       "       [1040,    0]])"
      ]
     },
     "execution_count": 80,
     "metadata": {},
     "output_type": "execute_result"
    }
   ],
   "source": [
    "np.argwhere(np.isnan(lending_co_data_numeric_nan_again))"
   ]
  },
  {
   "cell_type": "code",
   "execution_count": 81,
   "id": "aa3bf2a1",
   "metadata": {},
   "outputs": [
    {
     "data": {
      "text/plain": [
       "np.float64(nan)"
      ]
     },
     "execution_count": 81,
     "metadata": {},
     "output_type": "execute_result"
    }
   ],
   "source": [
    "lending_co_data_numeric_nan_again[11,3]"
   ]
  },
  {
   "cell_type": "code",
   "execution_count": 82,
   "id": "28e8c86d",
   "metadata": {},
   "outputs": [
    {
     "data": {
      "text/plain": [
       "array([ 2000.,    nan,    nan,  1851.,  3051., 13561.])"
      ]
     },
     "execution_count": 82,
     "metadata": {},
     "output_type": "execute_result"
    }
   ],
   "source": [
    "lending_co_data_numeric_nan_again[175]"
   ]
  },
  {
   "cell_type": "code",
   "execution_count": 84,
   "id": "2c8c02bb",
   "metadata": {},
   "outputs": [
    {
     "name": "stdout",
     "output_type": "stream",
     "text": [
      "row=11, column=3\n",
      "row=15, column=3\n",
      "row=27, column=3\n",
      "row=58, column=3\n",
      "row=60, column=4\n",
      "row=85, column=4\n",
      "row=117, column=5\n",
      "row=152, column=1\n",
      "row=152, column=2\n",
      "row=152, column=4\n",
      "row=172, column=1\n",
      "row=175, column=1\n",
      "row=175, column=2\n",
      "row=176, column=3\n",
      "row=177, column=4\n",
      "row=178, column=5\n",
      "row=211, column=3\n",
      "row=229, column=0\n",
      "row=230, column=1\n",
      "row=237, column=1\n",
      "row=247, column=3\n",
      "row=251, column=5\n",
      "row=252, column=4\n",
      "row=258, column=1\n",
      "row=260, column=3\n",
      "row=262, column=4\n",
      "row=271, column=5\n",
      "row=272, column=4\n",
      "row=284, column=2\n",
      "row=284, column=3\n",
      "row=297, column=1\n",
      "row=297, column=2\n",
      "row=300, column=3\n",
      "row=315, column=3\n",
      "row=315, column=5\n",
      "row=327, column=4\n",
      "row=336, column=4\n",
      "row=343, column=0\n",
      "row=344, column=2\n",
      "row=346, column=2\n",
      "row=363, column=3\n",
      "row=375, column=3\n",
      "row=377, column=2\n",
      "row=398, column=5\n",
      "row=416, column=4\n",
      "row=428, column=0\n",
      "row=432, column=1\n",
      "row=433, column=3\n",
      "row=434, column=2\n",
      "row=440, column=3\n",
      "row=441, column=1\n",
      "row=446, column=2\n",
      "row=455, column=1\n",
      "row=456, column=2\n",
      "row=458, column=2\n",
      "row=461, column=3\n",
      "row=467, column=4\n",
      "row=468, column=0\n",
      "row=469, column=3\n",
      "row=470, column=0\n",
      "row=481, column=1\n",
      "row=482, column=3\n",
      "row=484, column=4\n",
      "row=489, column=0\n",
      "row=493, column=5\n",
      "row=499, column=0\n",
      "row=504, column=3\n",
      "row=506, column=1\n",
      "row=517, column=4\n",
      "row=518, column=0\n",
      "row=521, column=2\n",
      "row=530, column=5\n",
      "row=532, column=3\n",
      "row=534, column=5\n",
      "row=547, column=3\n",
      "row=549, column=5\n",
      "row=553, column=5\n",
      "row=554, column=5\n",
      "row=559, column=3\n",
      "row=566, column=0\n",
      "row=566, column=1\n",
      "row=566, column=2\n",
      "row=567, column=0\n",
      "row=567, column=1\n",
      "row=567, column=2\n",
      "row=581, column=1\n",
      "row=581, column=2\n",
      "row=582, column=1\n",
      "row=582, column=2\n",
      "row=583, column=1\n",
      "row=583, column=2\n",
      "row=593, column=3\n",
      "row=594, column=3\n",
      "row=595, column=3\n",
      "row=596, column=3\n",
      "row=609, column=4\n",
      "row=609, column=5\n",
      "row=610, column=4\n",
      "row=610, column=5\n",
      "row=611, column=4\n",
      "row=611, column=5\n",
      "row=612, column=4\n",
      "row=612, column=5\n",
      "row=623, column=2\n",
      "row=623, column=3\n",
      "row=624, column=2\n",
      "row=624, column=3\n",
      "row=625, column=2\n",
      "row=625, column=3\n",
      "row=626, column=2\n",
      "row=626, column=3\n",
      "row=627, column=2\n",
      "row=627, column=3\n",
      "row=636, column=0\n",
      "row=637, column=0\n",
      "row=637, column=4\n",
      "row=637, column=5\n",
      "row=638, column=0\n",
      "row=638, column=4\n",
      "row=638, column=5\n",
      "row=639, column=4\n",
      "row=639, column=5\n",
      "row=640, column=4\n",
      "row=640, column=5\n",
      "row=641, column=4\n",
      "row=641, column=5\n",
      "row=653, column=1\n",
      "row=653, column=2\n",
      "row=653, column=3\n",
      "row=653, column=4\n",
      "row=654, column=1\n",
      "row=654, column=2\n",
      "row=654, column=3\n",
      "row=654, column=4\n",
      "row=655, column=1\n",
      "row=655, column=2\n",
      "row=655, column=3\n",
      "row=655, column=4\n",
      "row=685, column=2\n",
      "row=686, column=0\n",
      "row=701, column=4\n",
      "row=704, column=2\n",
      "row=724, column=1\n",
      "row=724, column=2\n",
      "row=730, column=1\n",
      "row=730, column=2\n",
      "row=730, column=3\n",
      "row=731, column=1\n",
      "row=731, column=2\n",
      "row=731, column=3\n",
      "row=732, column=1\n",
      "row=732, column=2\n",
      "row=732, column=3\n",
      "row=733, column=1\n",
      "row=733, column=2\n",
      "row=733, column=3\n",
      "row=742, column=4\n",
      "row=747, column=3\n",
      "row=755, column=1\n",
      "row=758, column=1\n",
      "row=760, column=1\n",
      "row=764, column=0\n",
      "row=764, column=1\n",
      "row=764, column=2\n",
      "row=764, column=3\n",
      "row=764, column=4\n",
      "row=764, column=5\n",
      "row=765, column=3\n",
      "row=775, column=1\n",
      "row=775, column=2\n",
      "row=775, column=3\n",
      "row=776, column=1\n",
      "row=776, column=2\n",
      "row=776, column=3\n",
      "row=777, column=1\n",
      "row=777, column=2\n",
      "row=777, column=3\n",
      "row=778, column=1\n",
      "row=778, column=2\n",
      "row=778, column=3\n",
      "row=787, column=4\n",
      "row=788, column=1\n",
      "row=790, column=2\n",
      "row=794, column=3\n",
      "row=795, column=5\n",
      "row=796, column=1\n",
      "row=796, column=4\n",
      "row=800, column=0\n",
      "row=801, column=1\n",
      "row=802, column=1\n",
      "row=803, column=2\n",
      "row=805, column=0\n",
      "row=809, column=0\n",
      "row=810, column=0\n",
      "row=811, column=0\n",
      "row=812, column=1\n",
      "row=820, column=0\n",
      "row=820, column=3\n",
      "row=820, column=4\n",
      "row=822, column=2\n",
      "row=823, column=2\n",
      "row=825, column=0\n",
      "row=830, column=1\n",
      "row=830, column=2\n",
      "row=836, column=3\n",
      "row=837, column=3\n",
      "row=838, column=3\n",
      "row=839, column=4\n",
      "row=843, column=2\n",
      "row=856, column=0\n",
      "row=856, column=1\n",
      "row=856, column=3\n",
      "row=856, column=4\n",
      "row=856, column=5\n",
      "row=857, column=0\n",
      "row=858, column=1\n",
      "row=870, column=0\n",
      "row=870, column=2\n",
      "row=870, column=3\n",
      "row=872, column=0\n",
      "row=873, column=0\n",
      "row=874, column=1\n",
      "row=890, column=1\n",
      "row=890, column=2\n",
      "row=890, column=3\n",
      "row=909, column=1\n",
      "row=910, column=0\n",
      "row=912, column=0\n",
      "row=912, column=2\n",
      "row=912, column=3\n",
      "row=912, column=4\n",
      "row=928, column=1\n",
      "row=928, column=2\n",
      "row=928, column=3\n",
      "row=929, column=1\n",
      "row=929, column=2\n",
      "row=929, column=3\n",
      "row=930, column=3\n",
      "row=958, column=2\n",
      "row=959, column=3\n",
      "row=960, column=3\n",
      "row=1024, column=0\n",
      "row=1024, column=2\n",
      "row=1026, column=2\n",
      "row=1026, column=4\n",
      "row=1028, column=0\n",
      "row=1028, column=3\n",
      "row=1028, column=4\n",
      "row=1029, column=0\n",
      "row=1030, column=1\n",
      "row=1030, column=5\n",
      "row=1032, column=0\n",
      "row=1032, column=5\n",
      "row=1034, column=3\n",
      "row=1035, column=4\n",
      "row=1036, column=2\n",
      "row=1037, column=1\n",
      "row=1038, column=4\n",
      "row=1039, column=3\n",
      "row=1040, column=0\n"
     ]
    }
   ],
   "source": [
    "for array_index in np.argwhere(np.isnan(lending_co_data_numeric_nan_again)):\n",
    "    print(f\"row={array_index[0]}, column={array_index[1]}\")"
   ]
  },
  {
   "cell_type": "code",
   "execution_count": 85,
   "id": "80b2437f",
   "metadata": {},
   "outputs": [],
   "source": [
    "for array_index in np.argwhere(np.isnan(lending_co_data_numeric_nan_again)):\n",
    "    lending_co_data_numeric_nan_again[array_index[0], array_index[1]] = 0"
   ]
  },
  {
   "cell_type": "code",
   "execution_count": 86,
   "id": "3c585ea7",
   "metadata": {},
   "outputs": [
    {
     "data": {
      "text/plain": [
       "array([ 2000.,     0.,     0.,  1851.,  3051., 13561.])"
      ]
     },
     "execution_count": 86,
     "metadata": {},
     "output_type": "execute_result"
    }
   ],
   "source": [
    "lending_co_data_numeric_nan_again[175]"
   ]
  },
  {
   "cell_type": "code",
   "execution_count": 87,
   "id": "0de46ea6",
   "metadata": {},
   "outputs": [
    {
     "data": {
      "text/plain": [
       "np.int64(0)"
      ]
     },
     "execution_count": 87,
     "metadata": {},
     "output_type": "execute_result"
    }
   ],
   "source": [
    "np.isnan(lending_co_data_numeric_nan_again).sum()"
   ]
  },
  {
   "cell_type": "markdown",
   "id": "707d09ed",
   "metadata": {},
   "source": [
    "### Shuffle data"
   ]
  },
  {
   "cell_type": "code",
   "execution_count": 90,
   "id": "8b057361",
   "metadata": {},
   "outputs": [
    {
     "data": {
      "text/plain": [
       "array([[ 2000.,    40.,   365.,  3121.,  4241., 13621.],\n",
       "       [ 2000.,    40.,   365.,  3061.,  4171., 15041.],\n",
       "       [ 1000.,    40.,   365.,  2160.,  3280., 15340.],\n",
       "       [ 2000.,    40.,   365.,  3041.,  4241., 15321.],\n",
       "       [ 2000.,    50.,   365.,  3470.,  4820., 13720.],\n",
       "       [ 2000.,    40.,   365.,  3201.,  4141., 14141.],\n",
       "       [ 2000.,    50.,   365.,  1851.,  3251., 17701.],\n",
       "       [ 2000.,    40.,   365.,  3971.,  4131., 15351.]])"
      ]
     },
     "execution_count": 90,
     "metadata": {},
     "output_type": "execute_result"
    }
   ],
   "source": [
    "sliced_lending_co_data_numeric = np.loadtxt(os.path.join(file_path, 'raw/Lending-company-Numeric.csv'),\n",
    "                                           delimiter=\",\")[:8]\n",
    "sliced_lending_co_data_numeric"
   ]
  },
  {
   "cell_type": "code",
   "execution_count": 91,
   "id": "21c1d265",
   "metadata": {},
   "outputs": [],
   "source": [
    "np.random.shuffle(sliced_lending_co_data_numeric)"
   ]
  },
  {
   "cell_type": "code",
   "execution_count": 92,
   "id": "926eac74",
   "metadata": {},
   "outputs": [
    {
     "data": {
      "text/plain": [
       "array([[ 2000.,    40.,   365.,  3041.,  4241., 15321.],\n",
       "       [ 2000.,    40.,   365.,  3121.,  4241., 13621.],\n",
       "       [ 2000.,    40.,   365.,  3971.,  4131., 15351.],\n",
       "       [ 2000.,    50.,   365.,  1851.,  3251., 17701.],\n",
       "       [ 2000.,    40.,   365.,  3201.,  4141., 14141.],\n",
       "       [ 2000.,    40.,   365.,  3061.,  4171., 15041.],\n",
       "       [ 1000.,    40.,   365.,  2160.,  3280., 15340.],\n",
       "       [ 2000.,    50.,   365.,  3470.,  4820., 13720.]])"
      ]
     },
     "execution_count": 92,
     "metadata": {},
     "output_type": "execute_result"
    }
   ],
   "source": [
    "sliced_lending_co_data_numeric"
   ]
  },
  {
   "cell_type": "code",
   "execution_count": 93,
   "id": "b96736d7",
   "metadata": {},
   "outputs": [
    {
     "data": {
      "text/plain": [
       "array([[ 1000.,    40.,   365.,  2160.,  3280., 15340.],\n",
       "       [ 2000.,    50.,   365.,  3470.,  4820., 13720.],\n",
       "       [ 2000.,    40.,   365.,  3971.,  4131., 15351.],\n",
       "       [ 2000.,    40.,   365.,  3201.,  4141., 14141.],\n",
       "       [ 2000.,    40.,   365.,  3061.,  4171., 15041.],\n",
       "       [ 2000.,    40.,   365.,  3121.,  4241., 13621.],\n",
       "       [ 2000.,    40.,   365.,  3041.,  4241., 15321.],\n",
       "       [ 2000.,    50.,   365.,  1851.,  3251., 17701.]])"
      ]
     },
     "execution_count": 93,
     "metadata": {},
     "output_type": "execute_result"
    }
   ],
   "source": [
    "np.random.shuffle(sliced_lending_co_data_numeric)\n",
    "sliced_lending_co_data_numeric"
   ]
  },
  {
   "cell_type": "code",
   "execution_count": 94,
   "id": "c55bfc09",
   "metadata": {},
   "outputs": [
    {
     "data": {
      "text/plain": [
       "array([[ 2000.,    40.,   365.,  3121.,  4241., 13621.],\n",
       "       [ 2000.,    40.,   365.,  3061.,  4171., 15041.],\n",
       "       [ 1000.,    40.,   365.,  2160.,  3280., 15340.],\n",
       "       ...,\n",
       "       [ 2000.,    40.,   365.,  4201.,  5001., 16600.],\n",
       "       [ 1000.,    40.,   365.,  2080.,  3320., 15600.],\n",
       "       [ 2000.,    40.,   365.,  4601.,  4601., 16600.]], shape=(1043, 6))"
      ]
     },
     "execution_count": 94,
     "metadata": {},
     "output_type": "execute_result"
    }
   ],
   "source": [
    "lending_co_data_numeric = np.loadtxt(os.path.join(file_path, 'raw/Lending-company-Numeric.csv'),\n",
    "                                           delimiter=\",\")\n",
    "lending_co_data_numeric"
   ]
  },
  {
   "cell_type": "code",
   "execution_count": 95,
   "id": "bdd5e78e",
   "metadata": {},
   "outputs": [
    {
     "data": {
      "text/plain": [
       "array([[ 2000.,    40.,   365.,  3701.,  4301., 10201.],\n",
       "       [ 2000.,    50.,   365.,  3301.,  4951., 20250.],\n",
       "       [ 2000.,    40.,   365.,  3480.,  4160., 14760.],\n",
       "       ...,\n",
       "       [ 1000.,    50.,   365.,   550.,  1150., 10770.],\n",
       "       [ 2000.,    40.,   365.,  3401.,  4601., 16600.],\n",
       "       [ 1000.,    50.,   365., -1860.,  -440., 12200.]], shape=(1043, 6))"
      ]
     },
     "execution_count": 95,
     "metadata": {},
     "output_type": "execute_result"
    }
   ],
   "source": [
    "np.random.shuffle(lending_co_data_numeric)\n",
    "lending_co_data_numeric"
   ]
  },
  {
   "cell_type": "markdown",
   "id": "b4cc3c29",
   "metadata": {},
   "source": [
    "### Casting"
   ]
  },
  {
   "cell_type": "code",
   "execution_count": 96,
   "id": "95340bb6",
   "metadata": {},
   "outputs": [
    {
     "data": {
      "text/plain": [
       "array([[ 2000,    40,   365,  3701,  4301, 10201],\n",
       "       [ 2000,    50,   365,  3301,  4951, 20250],\n",
       "       [ 2000,    40,   365,  3480,  4160, 14760],\n",
       "       ...,\n",
       "       [ 1000,    50,   365,   550,  1150, 10770],\n",
       "       [ 2000,    40,   365,  3401,  4601, 16600],\n",
       "       [ 1000,    50,   365, -1860,  -440, 12200]],\n",
       "      shape=(1043, 6), dtype=int32)"
      ]
     },
     "execution_count": 96,
     "metadata": {},
     "output_type": "execute_result"
    }
   ],
   "source": [
    "lending_co_data_numeric.astype(dtype = np.int32)"
   ]
  },
  {
   "cell_type": "code",
   "execution_count": 97,
   "id": "19bf0737",
   "metadata": {},
   "outputs": [
    {
     "data": {
      "text/plain": [
       "array([[ 2000.,    40.,   365.,  3701.,  4301., 10201.],\n",
       "       [ 2000.,    50.,   365.,  3301.,  4951., 20250.],\n",
       "       [ 2000.,    40.,   365.,  3480.,  4160., 14760.],\n",
       "       ...,\n",
       "       [ 1000.,    50.,   365.,   550.,  1150., 10770.],\n",
       "       [ 2000.,    40.,   365.,  3401.,  4601., 16600.],\n",
       "       [ 1000.,    50.,   365., -1860.,  -440., 12200.]], shape=(1043, 6))"
      ]
     },
     "execution_count": 97,
     "metadata": {},
     "output_type": "execute_result"
    }
   ],
   "source": [
    "lending_co_data_numeric"
   ]
  },
  {
   "cell_type": "code",
   "execution_count": 99,
   "id": "c60c4407",
   "metadata": {},
   "outputs": [
    {
     "data": {
      "text/plain": [
       "array([['2000.0', '40.0', '365.0', '3701.0', '4301.0', '10201.0'],\n",
       "       ['2000.0', '50.0', '365.0', '3301.0', '4951.0', '20250.0'],\n",
       "       ['2000.0', '40.0', '365.0', '3480.0', '4160.0', '14760.0'],\n",
       "       ...,\n",
       "       ['1000.0', '50.0', '365.0', '550.0', '1150.0', '10770.0'],\n",
       "       ['2000.0', '40.0', '365.0', '3401.0', '4601.0', '16600.0'],\n",
       "       ['1000.0', '50.0', '365.0', '-1860.0', '-440.0', '12200.0']],\n",
       "      shape=(1043, 6), dtype='<U32')"
      ]
     },
     "execution_count": 99,
     "metadata": {},
     "output_type": "execute_result"
    }
   ],
   "source": [
    "lending_co_data_string = lending_co_data_numeric.astype(dtype=np.str_)\n",
    "lending_co_data_string"
   ]
  },
  {
   "cell_type": "code",
   "execution_count": 102,
   "id": "0bf2492e",
   "metadata": {},
   "outputs": [
    {
     "data": {
      "text/plain": [
       "array([[ 2000.,    40.,   365.,  3701.,  4301., 10201.],\n",
       "       [ 2000.,    50.,   365.,  3301.,  4951., 20250.],\n",
       "       [ 2000.,    40.,   365.,  3480.,  4160., 14760.],\n",
       "       ...,\n",
       "       [ 1000.,    50.,   365.,   550.,  1150., 10770.],\n",
       "       [ 2000.,    40.,   365.,  3401.,  4601., 16600.],\n",
       "       [ 1000.,    50.,   365., -1860.,  -440., 12200.]],\n",
       "      shape=(1043, 6), dtype=float32)"
      ]
     },
     "execution_count": 102,
     "metadata": {},
     "output_type": "execute_result"
    }
   ],
   "source": [
    "# lending_co_data_string.astype(dtype=np.int32) raise ValueError\n",
    "lending_co_data_float = lending_co_data_string.astype(dtype=np.float32)\n",
    "lending_co_data_float"
   ]
  },
  {
   "cell_type": "markdown",
   "id": "c1d93a76",
   "metadata": {},
   "source": [
    "### Stripping values"
   ]
  },
  {
   "cell_type": "code",
   "execution_count": 103,
   "id": "4e217410",
   "metadata": {},
   "outputs": [
    {
     "data": {
      "text/plain": [
       "array([['id_1', 'Product B', 'Location 2'],\n",
       "       ['id_2', 'Product B', 'Location 3'],\n",
       "       ['id_3', 'Product C', 'Location 5'],\n",
       "       ...,\n",
       "       ['id_413', 'Product B', 'Location 135'],\n",
       "       ['id_414', 'Product C', 'Location 200'],\n",
       "       ['id_415', 'Product A', 'Location 8']],\n",
       "      shape=(415, 3), dtype='<U12')"
      ]
     },
     "execution_count": 103,
     "metadata": {},
     "output_type": "execute_result"
    }
   ],
   "source": [
    "lending_co_total_price = np.genfromtxt(os.path.join(file_path, 'raw/Lending-Company-Total-Price.csv'),\n",
    "                                      delimiter=\",\",\n",
    "                                      dtype=np.str_,\n",
    "                                      skip_header=1,\n",
    "                                      usecols=[1,2,4])\n",
    "lending_co_total_price"
   ]
  },
  {
   "cell_type": "code",
   "execution_count": 104,
   "id": "c70ea7ad",
   "metadata": {},
   "outputs": [
    {
     "name": "stdout",
     "output_type": "stream",
     "text": [
      "2.2.4\n"
     ]
    }
   ],
   "source": [
    "print(np.__version__)"
   ]
  },
  {
   "cell_type": "code",
   "execution_count": 105,
   "id": "16d61e06",
   "metadata": {},
   "outputs": [
    {
     "name": "stderr",
     "output_type": "stream",
     "text": [
      "/var/folders/jx/cc9brgl143z9wt4bc65wylz40000gn/T/ipykernel_9301/1339721210.py:1: DeprecationWarning: `np.chararray` is deprecated and will be removed from the main namespace in the future. Use an array with a string or bytes dtype instead.\n",
      "  np.chararray.strip(lending_co_total_price[:,0], \"id_\")\n"
     ]
    },
    {
     "data": {
      "text/plain": [
       "array(['1', '2', '3', '4', '5', '6', '7', '8', '9', '10', '11', '12',\n",
       "       '13', '14', '15', '16', '17', '18', '19', '20', '21', '22', '23',\n",
       "       '24', '25', '26', '27', '28', '29', '30', '31', '32', '33', '34',\n",
       "       '35', '36', '37', '38', '39', '40', '41', '42', '43', '44', '45',\n",
       "       '46', '47', '48', '49', '50', '51', '52', '53', '54', '55', '56',\n",
       "       '57', '58', '59', '60', '61', '62', '63', '64', '65', '66', '67',\n",
       "       '68', '69', '70', '71', '72', '73', '74', '75', '76', '77', '78',\n",
       "       '79', '80', '81', '82', '83', '84', '85', '86', '87', '88', '89',\n",
       "       '90', '91', '92', '93', '94', '95', '96', '97', '98', '99', '100',\n",
       "       '101', '102', '103', '104', '105', '106', '107', '108', '109',\n",
       "       '110', '111', '112', '113', '114', '115', '116', '117', '118',\n",
       "       '119', '120', '121', '122', '123', '124', '125', '126', '127',\n",
       "       '128', '129', '130', '131', '132', '133', '134', '135', '136',\n",
       "       '137', '138', '139', '140', '141', '142', '143', '144', '145',\n",
       "       '146', '147', '148', '149', '150', '151', '152', '153', '154',\n",
       "       '155', '156', '157', '158', '159', '160', '161', '162', '163',\n",
       "       '164', '165', '166', '167', '168', '169', '170', '171', '172',\n",
       "       '173', '174', '175', '176', '177', '178', '179', '180', '181',\n",
       "       '182', '183', '184', '185', '186', '187', '188', '189', '190',\n",
       "       '191', '192', '193', '194', '195', '196', '197', '198', '199',\n",
       "       '200', '201', '202', '203', '204', '205', '206', '207', '208',\n",
       "       '209', '210', '211', '212', '213', '214', '215', '216', '217',\n",
       "       '218', '219', '220', '221', '222', '223', '224', '225', '226',\n",
       "       '227', '228', '229', '230', '231', '232', '233', '234', '235',\n",
       "       '236', '237', '238', '239', '240', '241', '242', '243', '244',\n",
       "       '245', '246', '247', '248', '249', '250', '251', '252', '253',\n",
       "       '254', '255', '256', '257', '258', '259', '260', '261', '262',\n",
       "       '263', '264', '265', '266', '267', '268', '269', '270', '271',\n",
       "       '272', '273', '274', '275', '276', '277', '278', '279', '280',\n",
       "       '281', '282', '283', '284', '285', '286', '287', '288', '289',\n",
       "       '290', '291', '292', '293', '294', '295', '296', '297', '298',\n",
       "       '299', '300', '301', '302', '303', '304', '305', '306', '307',\n",
       "       '308', '309', '310', '311', '312', '313', '314', '315', '316',\n",
       "       '317', '318', '319', '320', '321', '322', '323', '324', '325',\n",
       "       '326', '327', '328', '329', '330', '331', '332', '333', '334',\n",
       "       '335', '336', '337', '338', '339', '340', '341', '342', '343',\n",
       "       '344', '345', '346', '347', '348', '349', '350', '351', '352',\n",
       "       '353', '354', '355', '356', '357', '358', '359', '360', '361',\n",
       "       '362', '363', '364', '365', '366', '367', '368', '369', '370',\n",
       "       '371', '372', '373', '374', '375', '376', '377', '378', '379',\n",
       "       '380', '381', '382', '383', '384', '385', '386', '387', '388',\n",
       "       '389', '390', '391', '392', '393', '394', '395', '396', '397',\n",
       "       '398', '399', '400', '401', '402', '403', '404', '405', '406',\n",
       "       '407', '408', '409', '410', '411', '412', '413', '414', '415'],\n",
       "      dtype='<U12')"
      ]
     },
     "execution_count": 105,
     "metadata": {},
     "output_type": "execute_result"
    }
   ],
   "source": [
    "np.chararray.strip(lending_co_total_price[:,0], \"id_\")"
   ]
  },
  {
   "cell_type": "code",
   "execution_count": 106,
   "id": "a1cdb168",
   "metadata": {},
   "outputs": [
    {
     "data": {
      "text/plain": [
       "array(['1', '2', '3', '4', '5', '6', '7', '8', '9', '10', '11', '12',\n",
       "       '13', '14', '15', '16', '17', '18', '19', '20', '21', '22', '23',\n",
       "       '24', '25', '26', '27', '28', '29', '30', '31', '32', '33', '34',\n",
       "       '35', '36', '37', '38', '39', '40', '41', '42', '43', '44', '45',\n",
       "       '46', '47', '48', '49', '50', '51', '52', '53', '54', '55', '56',\n",
       "       '57', '58', '59', '60', '61', '62', '63', '64', '65', '66', '67',\n",
       "       '68', '69', '70', '71', '72', '73', '74', '75', '76', '77', '78',\n",
       "       '79', '80', '81', '82', '83', '84', '85', '86', '87', '88', '89',\n",
       "       '90', '91', '92', '93', '94', '95', '96', '97', '98', '99', '100',\n",
       "       '101', '102', '103', '104', '105', '106', '107', '108', '109',\n",
       "       '110', '111', '112', '113', '114', '115', '116', '117', '118',\n",
       "       '119', '120', '121', '122', '123', '124', '125', '126', '127',\n",
       "       '128', '129', '130', '131', '132', '133', '134', '135', '136',\n",
       "       '137', '138', '139', '140', '141', '142', '143', '144', '145',\n",
       "       '146', '147', '148', '149', '150', '151', '152', '153', '154',\n",
       "       '155', '156', '157', '158', '159', '160', '161', '162', '163',\n",
       "       '164', '165', '166', '167', '168', '169', '170', '171', '172',\n",
       "       '173', '174', '175', '176', '177', '178', '179', '180', '181',\n",
       "       '182', '183', '184', '185', '186', '187', '188', '189', '190',\n",
       "       '191', '192', '193', '194', '195', '196', '197', '198', '199',\n",
       "       '200', '201', '202', '203', '204', '205', '206', '207', '208',\n",
       "       '209', '210', '211', '212', '213', '214', '215', '216', '217',\n",
       "       '218', '219', '220', '221', '222', '223', '224', '225', '226',\n",
       "       '227', '228', '229', '230', '231', '232', '233', '234', '235',\n",
       "       '236', '237', '238', '239', '240', '241', '242', '243', '244',\n",
       "       '245', '246', '247', '248', '249', '250', '251', '252', '253',\n",
       "       '254', '255', '256', '257', '258', '259', '260', '261', '262',\n",
       "       '263', '264', '265', '266', '267', '268', '269', '270', '271',\n",
       "       '272', '273', '274', '275', '276', '277', '278', '279', '280',\n",
       "       '281', '282', '283', '284', '285', '286', '287', '288', '289',\n",
       "       '290', '291', '292', '293', '294', '295', '296', '297', '298',\n",
       "       '299', '300', '301', '302', '303', '304', '305', '306', '307',\n",
       "       '308', '309', '310', '311', '312', '313', '314', '315', '316',\n",
       "       '317', '318', '319', '320', '321', '322', '323', '324', '325',\n",
       "       '326', '327', '328', '329', '330', '331', '332', '333', '334',\n",
       "       '335', '336', '337', '338', '339', '340', '341', '342', '343',\n",
       "       '344', '345', '346', '347', '348', '349', '350', '351', '352',\n",
       "       '353', '354', '355', '356', '357', '358', '359', '360', '361',\n",
       "       '362', '363', '364', '365', '366', '367', '368', '369', '370',\n",
       "       '371', '372', '373', '374', '375', '376', '377', '378', '379',\n",
       "       '380', '381', '382', '383', '384', '385', '386', '387', '388',\n",
       "       '389', '390', '391', '392', '393', '394', '395', '396', '397',\n",
       "       '398', '399', '400', '401', '402', '403', '404', '405', '406',\n",
       "       '407', '408', '409', '410', '411', '412', '413', '414', '415'],\n",
       "      dtype='<U12')"
      ]
     },
     "execution_count": 106,
     "metadata": {},
     "output_type": "execute_result"
    }
   ],
   "source": [
    "np.char.strip(lending_co_total_price[:,0], 'id_')"
   ]
  },
  {
   "cell_type": "code",
   "execution_count": 115,
   "id": "bc0ef85f",
   "metadata": {},
   "outputs": [
    {
     "data": {
      "text/plain": [
       "array([['1', 'B', '2'],\n",
       "       ['2', 'B', '3'],\n",
       "       ['3', 'C', '5'],\n",
       "       ...,\n",
       "       ['413', 'B', '135'],\n",
       "       ['414', 'C', '200'],\n",
       "       ['415', '1', '8']], shape=(415, 3), dtype='<U12')"
      ]
     },
     "execution_count": 115,
     "metadata": {},
     "output_type": "execute_result"
    }
   ],
   "source": [
    "lending_co_total_price[:,0] = np.char.strip(lending_co_total_price[:,0], 'id_')\n",
    "lending_co_total_price[:,1] = np.char.strip(lending_co_total_price[:,1], 'Product ')\n",
    "lending_co_total_price[:,2] = np.char.strip(lending_co_total_price[:,2], 'Location ')\n",
    "lending_co_total_price"
   ]
  },
  {
   "cell_type": "code",
   "execution_count": 117,
   "id": "9841d2f5",
   "metadata": {},
   "outputs": [
    {
     "data": {
      "text/plain": [
       "array([['1', '2', '2'],\n",
       "       ['2', '2', '3'],\n",
       "       ['3', '3', '5'],\n",
       "       ...,\n",
       "       ['413', '2', '135'],\n",
       "       ['414', '3', '200'],\n",
       "       ['415', '1', '8']], shape=(415, 3), dtype='<U12')"
      ]
     },
     "execution_count": 117,
     "metadata": {},
     "output_type": "execute_result"
    }
   ],
   "source": [
    "lending_co_total_price[:,1] = np.where(lending_co_total_price[:,1] == 'A', '1', lending_co_total_price[:,1])\n",
    "lending_co_total_price[:,1] = np.where(lending_co_total_price[:,1] == 'B', '2', lending_co_total_price[:,1])\n",
    "lending_co_total_price[:,1] = np.where(lending_co_total_price[:,1] == 'C', '3', lending_co_total_price[:,1])\n",
    "lending_co_total_price[:,1] = np.where(lending_co_total_price[:,1] == 'D', '4', lending_co_total_price[:,1])\n",
    "lending_co_total_price[:,1] = np.where(lending_co_total_price[:,1] == 'E', '5', lending_co_total_price[:,1])\n",
    "lending_co_total_price[:,1] = np.where(lending_co_total_price[:,1] == 'F', '6', lending_co_total_price[:,1])\n",
    "lending_co_total_price"
   ]
  },
  {
   "cell_type": "code",
   "execution_count": 119,
   "id": "16249305",
   "metadata": {},
   "outputs": [
    {
     "data": {
      "text/plain": [
       "array([[  1,   2,   2],\n",
       "       [  2,   2,   3],\n",
       "       [  3,   3,   5],\n",
       "       ...,\n",
       "       [413,   2, 135],\n",
       "       [414,   3, 200],\n",
       "       [415,   1,   8]], shape=(415, 3), dtype=int32)"
      ]
     },
     "execution_count": 119,
     "metadata": {},
     "output_type": "execute_result"
    }
   ],
   "source": [
    "lending_co_total_price = lending_co_total_price.astype(dtype=np.int32)\n",
    "lending_co_total_price"
   ]
  },
  {
   "cell_type": "markdown",
   "id": "bd783237",
   "metadata": {},
   "source": [
    "### Stacking arrays (np.stack, np.vstack, np.hstack, np.dstack)"
   ]
  },
  {
   "cell_type": "code",
   "execution_count": 125,
   "id": "a5be17a3",
   "metadata": {},
   "outputs": [
    {
     "data": {
      "text/plain": [
       "array([[ 2000.,    40.,   365.,  3121.,  4241., 13621.],\n",
       "       [ 2000.,    40.,   365.,  3061.,  4171., 15041.],\n",
       "       [ 1000.,    40.,   365.,  2160.,  3280., 15340.],\n",
       "       ...,\n",
       "       [ 2000.,    40.,   365.,  4201.,  5001., 16600.],\n",
       "       [ 1000.,    40.,   365.,  2080.,  3320., 15600.],\n",
       "       [ 2000.,    40.,   365.,  4601.,  4601., 16600.]], shape=(1043, 6))"
      ]
     },
     "execution_count": 125,
     "metadata": {},
     "output_type": "execute_result"
    }
   ],
   "source": [
    "# '''\n",
    "# 1. Reading numeric data set\n",
    "# 2. Reading NaN data set\n",
    "# 3. Find the temporay fill\n",
    "# 4. Find the temporary mean\n",
    "# 5. Reading NaN data set with temporary fill\n",
    "# 6. Execute loop to fill the temporary mean to replace temporary fill\n",
    "# '''\n",
    "lending_co_data_numeric = np.genfromtxt(os.path.join(file_path, 'raw/Lending-company-Numeric.csv'), delimiter=\",\")\n",
    "lending_co_data_numeric"
   ]
  },
  {
   "cell_type": "code",
   "execution_count": 128,
   "id": "b1b2d103",
   "metadata": {},
   "outputs": [
    {
     "data": {
      "text/plain": [
       "array([[ 2000.,    40.,   365.,  3121.,  4241., 13621.],\n",
       "       [ 2000.,    40.,   365.,  3061.,  4171., 15041.],\n",
       "       [ 1000.,    40.,   365.,  2160.,  3280., 15340.],\n",
       "       ...,\n",
       "       [   nan,    40.,   365.,  4201.,  5001., 16600.],\n",
       "       [ 1000.,    40.,   365.,  2080.,  3320., 15600.],\n",
       "       [ 2000.,    40.,   365.,  4601.,  4601., 16600.]], shape=(1043, 6))"
      ]
     },
     "execution_count": 128,
     "metadata": {},
     "output_type": "execute_result"
    }
   ],
   "source": [
    "lending_co_data_numeric_nan = np.genfromtxt(os.path.join(file_path, 'raw/Lending-company-Numeric-NAN.csv'), \n",
    "                                            delimiter=\";\")\n",
    "lending_co_data_numeric_nan"
   ]
  },
  {
   "cell_type": "code",
   "execution_count": 130,
   "id": "1ac0fdf8",
   "metadata": {},
   "outputs": [
    {
     "data": {
      "text/plain": [
       "np.float64(64002.0)"
      ]
     },
     "execution_count": 130,
     "metadata": {},
     "output_type": "execute_result"
    }
   ],
   "source": [
    "temporary_fill = np.nanmax(lending_co_data_numeric_nan).round(2) + 1\n",
    "temporary_fill"
   ]
  },
  {
   "cell_type": "code",
   "execution_count": 131,
   "id": "2128fcce",
   "metadata": {},
   "outputs": [
    {
     "data": {
      "text/plain": [
       "array([ 2250.25,    46.11,   365.  ,  3895.99,  5160.75, 16571.44])"
      ]
     },
     "execution_count": 131,
     "metadata": {},
     "output_type": "execute_result"
    }
   ],
   "source": [
    "temporary_mean = np.nanmean(lending_co_data_numeric_nan, axis=0).round(2)\n",
    "temporary_mean"
   ]
  },
  {
   "cell_type": "code",
   "execution_count": 132,
   "id": "2710d85c",
   "metadata": {},
   "outputs": [
    {
     "data": {
      "text/plain": [
       "array([[ 2000.,    40.,   365.,  3121.,  4241., 13621.],\n",
       "       [ 2000.,    40.,   365.,  3061.,  4171., 15041.],\n",
       "       [ 1000.,    40.,   365.,  2160.,  3280., 15340.],\n",
       "       ...,\n",
       "       [64002.,    40.,   365.,  4201.,  5001., 16600.],\n",
       "       [ 1000.,    40.,   365.,  2080.,  3320., 15600.],\n",
       "       [ 2000.,    40.,   365.,  4601.,  4601., 16600.]], shape=(1043, 6))"
      ]
     },
     "execution_count": 132,
     "metadata": {},
     "output_type": "execute_result"
    }
   ],
   "source": [
    "lending_co_data_numeric_nan = np.genfromtxt(os.path.join(file_path, 'raw/Lending-company-Numeric-NAN.csv'), \n",
    "                                            delimiter=\";\",\n",
    "                                           filling_values=temporary_fill)\n",
    "lending_co_data_numeric_nan"
   ]
  },
  {
   "cell_type": "code",
   "execution_count": 133,
   "id": "f6b68de3",
   "metadata": {},
   "outputs": [
    {
     "data": {
      "text/plain": [
       "array([[ 2000.  ,    40.  ,   365.  ,  3121.  ,  4241.  , 13621.  ],\n",
       "       [ 2000.  ,    40.  ,   365.  ,  3061.  ,  4171.  , 15041.  ],\n",
       "       [ 1000.  ,    40.  ,   365.  ,  2160.  ,  3280.  , 15340.  ],\n",
       "       ...,\n",
       "       [ 2250.25,    40.  ,   365.  ,  4201.  ,  5001.  , 16600.  ],\n",
       "       [ 1000.  ,    40.  ,   365.  ,  2080.  ,  3320.  , 15600.  ],\n",
       "       [ 2000.  ,    40.  ,   365.  ,  4601.  ,  4601.  , 16600.  ]],\n",
       "      shape=(1043, 6))"
      ]
     },
     "execution_count": 133,
     "metadata": {},
     "output_type": "execute_result"
    }
   ],
   "source": [
    "for i in range(lending_co_data_numeric_nan.shape[1]):\n",
    "    lending_co_data_numeric_nan[:,i] = np.where(lending_co_data_numeric_nan[:,i] == temporary_fill, \n",
    "                                                temporary_mean[i],\n",
    "                                               lending_co_data_numeric_nan[:,i])\n",
    "lending_co_data_numeric_nan"
   ]
  },
  {
   "cell_type": "code",
   "execution_count": 136,
   "id": "4e1bcfb4",
   "metadata": {},
   "outputs": [
    {
     "data": {
      "text/plain": [
       "array([[2000., 2000., 1000., ..., 2000., 1000., 2000.],\n",
       "       [  40.,   40.,   40., ...,   40.,   40.,   40.]], shape=(2, 1043))"
      ]
     },
     "execution_count": 136,
     "metadata": {},
     "output_type": "execute_result"
    }
   ],
   "source": [
    "# stacking them on top of one another\n",
    "np.stack((lending_co_data_numeric[:,0], lending_co_data_numeric[:,1])) "
   ]
  },
  {
   "cell_type": "code",
   "execution_count": 137,
   "id": "4c1417be",
   "metadata": {},
   "outputs": [
    {
     "data": {
      "text/plain": [
       "array([[  40.,   40.,   40., ...,   40.,   40.,   40.],\n",
       "       [2000., 2000., 1000., ..., 2000., 1000., 2000.]], shape=(2, 1043))"
      ]
     },
     "execution_count": 137,
     "metadata": {},
     "output_type": "execute_result"
    }
   ],
   "source": [
    "# stacking them on top of one another with chenage sequence\n",
    "np.stack((lending_co_data_numeric[:,1], lending_co_data_numeric[:,0])) "
   ]
  },
  {
   "cell_type": "code",
   "execution_count": 148,
   "id": "bbf24f0a",
   "metadata": {},
   "outputs": [
    {
     "name": "stdout",
     "output_type": "stream",
     "text": [
      "(1043,)\n",
      "(1043,)\n"
     ]
    }
   ],
   "source": [
    "print(lending_co_data_numeric[:,1].shape)\n",
    "print(lending_co_data_numeric[:,0].shape)"
   ]
  },
  {
   "cell_type": "code",
   "execution_count": 139,
   "id": "d3edcdb9",
   "metadata": {},
   "outputs": [
    {
     "data": {
      "text/plain": [
       "array([[2000.,   40.],\n",
       "       [2000.,   40.],\n",
       "       [1000.,   40.],\n",
       "       ...,\n",
       "       [2000.,   40.],\n",
       "       [1000.,   40.],\n",
       "       [2000.,   40.]], shape=(1043, 2))"
      ]
     },
     "execution_count": 139,
     "metadata": {},
     "output_type": "execute_result"
    }
   ],
   "source": [
    "# stacking them side by side\n",
    "np.stack((lending_co_data_numeric[:,0], lending_co_data_numeric[:,1]), axis=1) "
   ]
  },
  {
   "cell_type": "code",
   "execution_count": 141,
   "id": "16548003",
   "metadata": {},
   "outputs": [
    {
     "data": {
      "text/plain": [
       "array([[2000.,   40.,  365.],\n",
       "       [2000.,   40.,  365.],\n",
       "       [1000.,   40.,  365.],\n",
       "       ...,\n",
       "       [2000.,   40.,  365.],\n",
       "       [1000.,   40.,  365.],\n",
       "       [2000.,   40.,  365.]], shape=(1043, 3))"
      ]
     },
     "execution_count": 141,
     "metadata": {},
     "output_type": "execute_result"
    }
   ],
   "source": [
    "# multiple elements\n",
    "np.stack((lending_co_data_numeric[:,0], lending_co_data_numeric[:,1], lending_co_data_numeric[:,2]), axis=1)"
   ]
  },
  {
   "cell_type": "code",
   "execution_count": 143,
   "id": "ef2365b1",
   "metadata": {},
   "outputs": [
    {
     "data": {
      "text/plain": [
       "array([[ 2000.  ,    40.  ,   365.  ,  3121.  ,  4241.  , 13621.  ],\n",
       "       [ 2000.  ,    40.  ,   365.  ,  3061.  ,  4171.  , 15041.  ],\n",
       "       [ 1000.  ,    40.  ,   365.  ,  2160.  ,  3280.  , 15340.  ],\n",
       "       ...,\n",
       "       [ 2250.25,    40.  ,   365.  ,  4201.  ,  5001.  , 16600.  ],\n",
       "       [ 1000.  ,    40.  ,   365.  ,  2080.  ,  3320.  , 15600.  ],\n",
       "       [ 2000.  ,    40.  ,   365.  ,  4601.  ,  4601.  , 16600.  ]],\n",
       "      shape=(2086, 6))"
      ]
     },
     "execution_count": 143,
     "metadata": {},
     "output_type": "execute_result"
    }
   ],
   "source": [
    "np.vstack((lending_co_data_numeric, lending_co_data_numeric_nan))"
   ]
  },
  {
   "cell_type": "code",
   "execution_count": 144,
   "id": "62b53b3f",
   "metadata": {},
   "outputs": [
    {
     "data": {
      "text/plain": [
       "array([[ 2000.,    40.,   365., ...,  3121.,  4241., 13621.],\n",
       "       [ 2000.,    40.,   365., ...,  3061.,  4171., 15041.],\n",
       "       [ 1000.,    40.,   365., ...,  2160.,  3280., 15340.],\n",
       "       ...,\n",
       "       [ 2000.,    40.,   365., ...,  4201.,  5001., 16600.],\n",
       "       [ 1000.,    40.,   365., ...,  2080.,  3320., 15600.],\n",
       "       [ 2000.,    40.,   365., ...,  4601.,  4601., 16600.]],\n",
       "      shape=(1043, 12))"
      ]
     },
     "execution_count": 144,
     "metadata": {},
     "output_type": "execute_result"
    }
   ],
   "source": [
    "np.hstack([lending_co_data_numeric, lending_co_data_numeric_nan])"
   ]
  },
  {
   "cell_type": "code",
   "execution_count": 145,
   "id": "9c81566f",
   "metadata": {},
   "outputs": [
    {
     "data": {
      "text/plain": [
       "array([[[ 2000.  ,  2000.  ],\n",
       "        [   40.  ,    40.  ],\n",
       "        [  365.  ,   365.  ],\n",
       "        [ 3121.  ,  3121.  ],\n",
       "        [ 4241.  ,  4241.  ],\n",
       "        [13621.  , 13621.  ]],\n",
       "\n",
       "       [[ 2000.  ,  2000.  ],\n",
       "        [   40.  ,    40.  ],\n",
       "        [  365.  ,   365.  ],\n",
       "        [ 3061.  ,  3061.  ],\n",
       "        [ 4171.  ,  4171.  ],\n",
       "        [15041.  , 15041.  ]],\n",
       "\n",
       "       [[ 1000.  ,  1000.  ],\n",
       "        [   40.  ,    40.  ],\n",
       "        [  365.  ,   365.  ],\n",
       "        [ 2160.  ,  2160.  ],\n",
       "        [ 3280.  ,  3280.  ],\n",
       "        [15340.  , 15340.  ]],\n",
       "\n",
       "       ...,\n",
       "\n",
       "       [[ 2000.  ,  2250.25],\n",
       "        [   40.  ,    40.  ],\n",
       "        [  365.  ,   365.  ],\n",
       "        [ 4201.  ,  4201.  ],\n",
       "        [ 5001.  ,  5001.  ],\n",
       "        [16600.  , 16600.  ]],\n",
       "\n",
       "       [[ 1000.  ,  1000.  ],\n",
       "        [   40.  ,    40.  ],\n",
       "        [  365.  ,   365.  ],\n",
       "        [ 2080.  ,  2080.  ],\n",
       "        [ 3320.  ,  3320.  ],\n",
       "        [15600.  , 15600.  ]],\n",
       "\n",
       "       [[ 2000.  ,  2000.  ],\n",
       "        [   40.  ,    40.  ],\n",
       "        [  365.  ,   365.  ],\n",
       "        [ 4601.  ,  4601.  ],\n",
       "        [ 4601.  ,  4601.  ],\n",
       "        [16600.  , 16600.  ]]], shape=(1043, 6, 2))"
      ]
     },
     "execution_count": 145,
     "metadata": {},
     "output_type": "execute_result"
    }
   ],
   "source": [
    "np.dstack([lending_co_data_numeric, lending_co_data_numeric_nan])"
   ]
  },
  {
   "cell_type": "markdown",
   "id": "6892f620",
   "metadata": {},
   "source": [
    "### Concatenating"
   ]
  },
  {
   "cell_type": "code",
   "execution_count": 149,
   "id": "427d0509",
   "metadata": {},
   "outputs": [
    {
     "data": {
      "text/plain": [
       "array([[ 2000.  ,    40.  ,   365.  ,  3121.  ,  4241.  , 13621.  ],\n",
       "       [ 2000.  ,    40.  ,   365.  ,  3061.  ,  4171.  , 15041.  ],\n",
       "       [ 1000.  ,    40.  ,   365.  ,  2160.  ,  3280.  , 15340.  ],\n",
       "       ...,\n",
       "       [ 2250.25,    40.  ,   365.  ,  4201.  ,  5001.  , 16600.  ],\n",
       "       [ 1000.  ,    40.  ,   365.  ,  2080.  ,  3320.  , 15600.  ],\n",
       "       [ 2000.  ,    40.  ,   365.  ,  4601.  ,  4601.  , 16600.  ]],\n",
       "      shape=(2086, 6))"
      ]
     },
     "execution_count": 149,
     "metadata": {},
     "output_type": "execute_result"
    }
   ],
   "source": [
    "np.concatenate([lending_co_data_numeric, lending_co_data_numeric_nan])"
   ]
  },
  {
   "cell_type": "code",
   "execution_count": 152,
   "id": "2d116e43",
   "metadata": {},
   "outputs": [
    {
     "data": {
      "text/plain": [
       "(3, 1, 2)"
      ]
     },
     "execution_count": 152,
     "metadata": {},
     "output_type": "execute_result"
    }
   ],
   "source": [
    "a = np.array([[1, 2]])\n",
    "b = np.array([[3, 4]])\n",
    "c = np.array([[5, 6]])\n",
    "\n",
    "np.concatenate((a, b, c), axis=0).shape  # shape: (2, 2)\n",
    "# Stacks rows\n",
    "\n",
    "np.stack((a, b, c), axis=0).shape       # shape: (2, 1, 2)\n",
    "# Adds a new outer dimension"
   ]
  },
  {
   "cell_type": "code",
   "execution_count": 153,
   "id": "8608d96a",
   "metadata": {},
   "outputs": [
    {
     "data": {
      "text/plain": [
       "array([[1, 2],\n",
       "       [3, 4],\n",
       "       [5, 6]])"
      ]
     },
     "execution_count": 153,
     "metadata": {},
     "output_type": "execute_result"
    }
   ],
   "source": [
    "np.concatenate((a, b, c), axis=0)"
   ]
  },
  {
   "cell_type": "code",
   "execution_count": 154,
   "id": "fc04bd6d",
   "metadata": {},
   "outputs": [
    {
     "data": {
      "text/plain": [
       "(3, 2)"
      ]
     },
     "execution_count": 154,
     "metadata": {},
     "output_type": "execute_result"
    }
   ],
   "source": [
    "np.concatenate((a, b, c), axis=0).shape"
   ]
  },
  {
   "cell_type": "code",
   "execution_count": 155,
   "id": "a3d5bdca",
   "metadata": {},
   "outputs": [
    {
     "data": {
      "text/plain": [
       "array([[[1, 2]],\n",
       "\n",
       "       [[3, 4]],\n",
       "\n",
       "       [[5, 6]]])"
      ]
     },
     "execution_count": 155,
     "metadata": {},
     "output_type": "execute_result"
    }
   ],
   "source": [
    "np.stack((a, b, c), axis=0)"
   ]
  },
  {
   "cell_type": "code",
   "execution_count": 156,
   "id": "b3dae73e",
   "metadata": {},
   "outputs": [
    {
     "data": {
      "text/plain": [
       "(3, 1, 2)"
      ]
     },
     "execution_count": 156,
     "metadata": {},
     "output_type": "execute_result"
    }
   ],
   "source": [
    "np.stack((a, b, c), axis=0).shape"
   ]
  },
  {
   "cell_type": "code",
   "execution_count": 158,
   "id": "8becaf0c",
   "metadata": {},
   "outputs": [
    {
     "data": {
      "text/plain": [
       "array([2000.,   40.,  365., ..., 2000., 1000., 2000.], shape=(1049,))"
      ]
     },
     "execution_count": 158,
     "metadata": {},
     "output_type": "execute_result"
    }
   ],
   "source": [
    "np.concatenate([lending_co_data_numeric[0,:], lending_co_data_numeric[:,0]])"
   ]
  },
  {
   "cell_type": "code",
   "execution_count": 160,
   "id": "146040b4",
   "metadata": {},
   "outputs": [
    {
     "data": {
      "text/plain": [
       "array([[ 2000.,    40.,   365.,  3121.,  4241., 13621.],\n",
       "       [ 2000.,    40.,   365.,  3061.,  4171., 15041.],\n",
       "       [ 1000.,    40.,   365.,  2160.,  3280., 15340.],\n",
       "       ...,\n",
       "       [ 2000.,    40.,   365.,  4201.,  5001., 16600.],\n",
       "       [ 1000.,    40.,   365.,  2080.,  3320., 15600.],\n",
       "       [ 2000.,    40.,   365.,  4601.,  4601., 16600.]], shape=(2085, 6))"
      ]
     },
     "execution_count": 160,
     "metadata": {},
     "output_type": "execute_result"
    }
   ],
   "source": [
    "# np.concatenate([lending_co_data_numeric[:,:], lending_co_data_numeric[:,0]]) # different dimension raise error\n",
    "np.concatenate([lending_co_data_numeric, lending_co_data_numeric[1:,:]])"
   ]
  },
  {
   "cell_type": "markdown",
   "id": "0f9136d1",
   "metadata": {},
   "source": [
    "### Finding Unique in arrays"
   ]
  },
  {
   "cell_type": "code",
   "execution_count": 161,
   "id": "401273a0",
   "metadata": {},
   "outputs": [
    {
     "data": {
      "text/plain": [
       "array([[ 2000.,    40.,   365.,  3121.,  4241., 13621.],\n",
       "       [ 2000.,    40.,   365.,  3061.,  4171., 15041.],\n",
       "       [ 1000.,    40.,   365.,  2160.,  3280., 15340.],\n",
       "       ...,\n",
       "       [ 2000.,    40.,   365.,  4201.,  5001., 16600.],\n",
       "       [ 1000.,    40.,   365.,  2080.,  3320., 15600.],\n",
       "       [ 2000.,    40.,   365.,  4601.,  4601., 16600.]], shape=(1043, 6))"
      ]
     },
     "execution_count": 161,
     "metadata": {},
     "output_type": "execute_result"
    }
   ],
   "source": [
    "lending_co_data_numeric"
   ]
  },
  {
   "cell_type": "code",
   "execution_count": 162,
   "id": "056e4e94",
   "metadata": {},
   "outputs": [
    {
     "data": {
      "text/plain": [
       "array([-2870., -2550., -2450., ..., 52751., 54625., 64001.], shape=(1140,))"
      ]
     },
     "execution_count": 162,
     "metadata": {},
     "output_type": "execute_result"
    }
   ],
   "source": [
    "np.unique(lending_co_data_numeric)"
   ]
  },
  {
   "cell_type": "code",
   "execution_count": 164,
   "id": "40774517",
   "metadata": {},
   "outputs": [
    {
     "data": {
      "text/plain": [
       "(array([ 35.,  40.,  50., 125., 165.]), array([  4, 567, 451,  19,   2]))"
      ]
     },
     "execution_count": 164,
     "metadata": {},
     "output_type": "execute_result"
    }
   ],
   "source": [
    "np.unique(lending_co_data_numeric[:,1], return_counts=True)"
   ]
  },
  {
   "cell_type": "code",
   "execution_count": 165,
   "id": "8fb37117",
   "metadata": {},
   "outputs": [
    {
     "data": {
      "text/plain": [
       "(array([ 35.,  40.,  50., 125., 165.]),\n",
       " array([327,   0,   4,  19,  27]),\n",
       " array([  4, 567, 451,  19,   2]))"
      ]
     },
     "execution_count": 165,
     "metadata": {},
     "output_type": "execute_result"
    }
   ],
   "source": [
    "np.unique(lending_co_data_numeric[:,1], return_counts=True, return_index=True)"
   ]
  },
  {
   "cell_type": "code",
   "execution_count": null,
   "id": "b6ab3e65",
   "metadata": {},
   "outputs": [],
   "source": []
  }
 ],
 "metadata": {
  "kernelspec": {
   "display_name": "ds_env",
   "language": "python",
   "name": "ds_env"
  },
  "language_info": {
   "codemirror_mode": {
    "name": "ipython",
    "version": 3
   },
   "file_extension": ".py",
   "mimetype": "text/x-python",
   "name": "python",
   "nbconvert_exporter": "python",
   "pygments_lexer": "ipython3",
   "version": "3.12.9"
  }
 },
 "nbformat": 4,
 "nbformat_minor": 5
}
