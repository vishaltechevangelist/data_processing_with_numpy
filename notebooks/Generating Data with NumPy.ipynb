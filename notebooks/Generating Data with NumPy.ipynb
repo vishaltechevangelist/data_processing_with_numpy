{
 "cells": [
  {
   "cell_type": "markdown",
   "id": "77e2e626",
   "metadata": {},
   "source": [
    "# Generating Data w/ NumPy"
   ]
  },
  {
   "cell_type": "code",
   "execution_count": 1,
   "id": "80ed0033",
   "metadata": {},
   "outputs": [],
   "source": [
    "import numpy as np"
   ]
  },
  {
   "cell_type": "markdown",
   "id": "ad0a8e09",
   "metadata": {},
   "source": [
    "## np.empty(), np.zeros(), np.ones(), np.full()"
   ]
  },
  {
   "cell_type": "code",
   "execution_count": 6,
   "id": "682daab1",
   "metadata": {},
   "outputs": [
    {
     "data": {
      "text/plain": [
       "dtype('float64')"
      ]
     },
     "execution_count": 6,
     "metadata": {},
     "output_type": "execute_result"
    }
   ],
   "source": [
    "# Functions that quickly generate arrays of data\n",
    "array_empty = np.empty(shape = (2,3))\n",
    "array_empty.dtype"
   ]
  },
  {
   "cell_type": "code",
   "execution_count": 7,
   "id": "9d58d53f",
   "metadata": {},
   "outputs": [
    {
     "data": {
      "text/plain": [
       "array([[0., 0., 0.],\n",
       "       [0., 0., 0.]])"
      ]
     },
     "execution_count": 7,
     "metadata": {},
     "output_type": "execute_result"
    }
   ],
   "source": [
    "array_zeros = np.zeros(shape = (2,3))\n",
    "array_zeros"
   ]
  },
  {
   "cell_type": "code",
   "execution_count": 8,
   "id": "15cf5c9e",
   "metadata": {},
   "outputs": [
    {
     "data": {
      "text/plain": [
       "array([[0, 0, 0],\n",
       "       [0, 0, 0]], dtype=int8)"
      ]
     },
     "execution_count": 8,
     "metadata": {},
     "output_type": "execute_result"
    }
   ],
   "source": [
    "array_zeros = np.zeros(shape = (2,3), dtype = np.int8)\n",
    "array_zeros"
   ]
  },
  {
   "cell_type": "code",
   "execution_count": 11,
   "id": "fb743610",
   "metadata": {},
   "outputs": [
    {
     "data": {
      "text/plain": [
       "array([['1', '1'],\n",
       "       ['1', '1']], dtype='<U1')"
      ]
     },
     "execution_count": 11,
     "metadata": {},
     "output_type": "execute_result"
    }
   ],
   "source": [
    "array_ones = np.ones(shape=(2,2), dtype='str')\n",
    "array_ones"
   ]
  },
  {
   "cell_type": "code",
   "execution_count": 14,
   "id": "43d6ecfa",
   "metadata": {},
   "outputs": [
    {
     "data": {
      "text/plain": [
       "array([[2, 2, 2],\n",
       "       [2, 2, 2]])"
      ]
     },
     "execution_count": 14,
     "metadata": {},
     "output_type": "execute_result"
    }
   ],
   "source": [
    "array_full = np.full(shape = (2,3), fill_value=2)\n",
    "array_full"
   ]
  },
  {
   "cell_type": "markdown",
   "id": "33fd6a04",
   "metadata": {},
   "source": [
    "## _like functions"
   ]
  },
  {
   "cell_type": "code",
   "execution_count": 15,
   "id": "a84140bc",
   "metadata": {},
   "outputs": [
    {
     "data": {
      "text/plain": [
       "array([[1, 1, 1, 2, 0],\n",
       "       [3, 6, 6, 7, 4],\n",
       "       [4, 5, 3, 8, 0]])"
      ]
     },
     "execution_count": 15,
     "metadata": {},
     "output_type": "execute_result"
    }
   ],
   "source": [
    "matrix_a = np.array([[1,1,1,2,0], [3,6,6,7,4], [4,5,3,8,0]])\n",
    "matrix_a"
   ]
  },
  {
   "cell_type": "code",
   "execution_count": 23,
   "id": "029a4bc4",
   "metadata": {},
   "outputs": [
    {
     "data": {
      "text/plain": [
       "array([[0, 0, 0, 0, 0],\n",
       "       [0, 0, 0, 0, 0],\n",
       "       [0, 0, 0, 0, 0]])"
      ]
     },
     "execution_count": 23,
     "metadata": {},
     "output_type": "execute_result"
    }
   ],
   "source": [
    "array_empty_like = np.empty_like(matrix_a)\n",
    "array_empty_like"
   ]
  },
  {
   "cell_type": "code",
   "execution_count": 20,
   "id": "3fb13b68",
   "metadata": {},
   "outputs": [
    {
     "data": {
      "text/plain": [
       "array([[0, 0, 0, 0, 0],\n",
       "       [0, 0, 0, 0, 0],\n",
       "       [0, 0, 0, 0, 0]])"
      ]
     },
     "execution_count": 20,
     "metadata": {},
     "output_type": "execute_result"
    }
   ],
   "source": [
    "array_zeros_like = np.zeros_like(matrix_a)\n",
    "array_zeros_like"
   ]
  },
  {
   "cell_type": "code",
   "execution_count": 24,
   "id": "07f2c0b6",
   "metadata": {},
   "outputs": [
    {
     "data": {
      "text/plain": [
       "array([[1, 1, 1, 1, 1],\n",
       "       [1, 1, 1, 1, 1],\n",
       "       [1, 1, 1, 1, 1]])"
      ]
     },
     "execution_count": 24,
     "metadata": {},
     "output_type": "execute_result"
    }
   ],
   "source": [
    "array_ones_like = np.ones_like(matrix_a)\n",
    "array_ones_like"
   ]
  },
  {
   "cell_type": "code",
   "execution_count": 26,
   "id": "5200fa65",
   "metadata": {},
   "outputs": [
    {
     "data": {
      "text/plain": [
       "array([[4, 4, 4, 4, 4],\n",
       "       [4, 4, 4, 4, 4],\n",
       "       [4, 4, 4, 4, 4]])"
      ]
     },
     "execution_count": 26,
     "metadata": {},
     "output_type": "execute_result"
    }
   ],
   "source": [
    "array_full_like = np.full_like(matrix_a, fill_value=4)\n",
    "array_full_like"
   ]
  },
  {
   "cell_type": "markdown",
   "id": "044d6e56",
   "metadata": {},
   "source": [
    "## np.arange()"
   ]
  },
  {
   "cell_type": "code",
   "execution_count": 29,
   "id": "c4240e3f",
   "metadata": {},
   "outputs": [
    {
     "data": {
      "text/plain": [
       "[0, 1, 2, 3, 4, 5, 6, 7, 8, 9]"
      ]
     },
     "execution_count": 29,
     "metadata": {},
     "output_type": "execute_result"
    }
   ],
   "source": [
    "list(range(10))"
   ]
  },
  {
   "cell_type": "code",
   "execution_count": 32,
   "id": "d7f875d2",
   "metadata": {},
   "outputs": [
    {
     "data": {
      "text/plain": [
       "array([ 0,  1,  2,  3,  4,  5,  6,  7,  8,  9, 10, 11, 12, 13, 14, 15, 16,\n",
       "       17, 18, 19, 20, 21, 22, 23, 24, 25, 26, 27, 28, 29])"
      ]
     },
     "execution_count": 32,
     "metadata": {},
     "output_type": "execute_result"
    }
   ],
   "source": [
    "np.arange(30)"
   ]
  },
  {
   "cell_type": "code",
   "execution_count": 33,
   "id": "c79536fd",
   "metadata": {},
   "outputs": [
    {
     "data": {
      "text/plain": [
       "array([ 0,  1,  2,  3,  4,  5,  6,  7,  8,  9, 10, 11, 12, 13, 14, 15, 16,\n",
       "       17, 18, 19, 20, 21, 22, 23, 24, 25, 26, 27, 28, 29])"
      ]
     },
     "execution_count": 33,
     "metadata": {},
     "output_type": "execute_result"
    }
   ],
   "source": [
    "np.arange(stop=30)"
   ]
  },
  {
   "cell_type": "code",
   "execution_count": 36,
   "id": "d86cb060",
   "metadata": {},
   "outputs": [
    {
     "data": {
      "text/plain": [
       "array([21, 22, 23, 24, 25, 26, 27, 28, 29])"
      ]
     },
     "execution_count": 36,
     "metadata": {},
     "output_type": "execute_result"
    }
   ],
   "source": [
    "np.arange(start=21, stop=30)"
   ]
  },
  {
   "cell_type": "code",
   "execution_count": 37,
   "id": "47b49c75",
   "metadata": {},
   "outputs": [
    {
     "data": {
      "text/plain": [
       "array([21. , 23.5, 26. , 28.5])"
      ]
     },
     "execution_count": 37,
     "metadata": {},
     "output_type": "execute_result"
    }
   ],
   "source": [
    "np.arange(start=21, stop=30, step=2.5)"
   ]
  },
  {
   "cell_type": "code",
   "execution_count": 38,
   "id": "4508d444",
   "metadata": {},
   "outputs": [
    {
     "data": {
      "text/plain": [
       "array([21. , 23.5, 26. , 28.5], dtype=float16)"
      ]
     },
     "execution_count": 38,
     "metadata": {},
     "output_type": "execute_result"
    }
   ],
   "source": [
    "np.arange(start=21, stop=30, step=2.5, dtype=np.float16)"
   ]
  },
  {
   "cell_type": "code",
   "execution_count": 39,
   "id": "4448b9be",
   "metadata": {},
   "outputs": [
    {
     "data": {
      "text/plain": [
       "array([21, 23, 25, 27], dtype=int32)"
      ]
     },
     "execution_count": 39,
     "metadata": {},
     "output_type": "execute_result"
    }
   ],
   "source": [
    "np.arange(start=21, stop=30, step=2.5, dtype=np.int32)"
   ]
  },
  {
   "cell_type": "markdown",
   "id": "c2b128c3",
   "metadata": {},
   "source": [
    "## Random generators"
   ]
  },
  {
   "cell_type": "markdown",
   "id": "3ea29341",
   "metadata": {},
   "source": [
    "### Defining Random Generators and seeds"
   ]
  },
  {
   "cell_type": "code",
   "execution_count": 43,
   "id": "34a9b49e",
   "metadata": {},
   "outputs": [],
   "source": [
    "from numpy.random import Generator as gen, PCG64 as pcg"
   ]
  },
  {
   "cell_type": "code",
   "execution_count": 47,
   "id": "581d179c",
   "metadata": {},
   "outputs": [
    {
     "data": {
      "text/plain": [
       "0.6178731124829107"
      ]
     },
     "execution_count": 47,
     "metadata": {},
     "output_type": "execute_result"
    }
   ],
   "source": [
    "array_random_generated = gen(pcg())\n",
    "array_random_generated.normal()"
   ]
  },
  {
   "cell_type": "code",
   "execution_count": 50,
   "id": "7ac52c01",
   "metadata": {},
   "outputs": [
    {
     "data": {
      "text/plain": [
       "array([-0.22497992,  0.32052955,  1.15017732, -0.40356222, -0.35273315])"
      ]
     },
     "execution_count": 50,
     "metadata": {},
     "output_type": "execute_result"
    }
   ],
   "source": [
    "array_random_generated.normal(size = 5)"
   ]
  },
  {
   "cell_type": "code",
   "execution_count": 51,
   "id": "7ab4bab8",
   "metadata": {},
   "outputs": [
    {
     "data": {
      "text/plain": [
       "array([[ 0.08480043, -0.89798777,  0.29083938, -0.03576859,  0.54288791],\n",
       "       [ 2.86655945, -0.97068979,  0.59367643,  0.38745249,  1.18464076],\n",
       "       [-0.24715454, -0.74664557, -0.60468742, -1.18495438,  1.71211197],\n",
       "       [ 0.21223978, -1.01612239,  0.29559703, -0.58114463,  1.51646607],\n",
       "       [-0.28358397,  0.1288424 , -2.02004341,  1.73117923,  1.75747294]])"
      ]
     },
     "execution_count": 51,
     "metadata": {},
     "output_type": "execute_result"
    }
   ],
   "source": [
    "array_random_generated.normal(size=(5,5))"
   ]
  },
  {
   "cell_type": "code",
   "execution_count": 61,
   "id": "0225db48",
   "metadata": {},
   "outputs": [
    {
     "data": {
      "text/plain": [
       "array([[-0.13640899,  0.09414431, -0.06300442,  1.05391641, -0.6866818 ],\n",
       "       [-0.50922173, -0.7999526 ,  0.73041825,  0.08825439, -2.1177576 ],\n",
       "       [ 0.65526774, -0.48095012, -0.5519114 , -0.58578662, -0.98257896],\n",
       "       [ 1.12378166, -1.30984316, -0.04703774,  0.955272  ,  0.26071745],\n",
       "       [-0.20023668, -1.50172484, -1.4929163 ,  0.96535084,  1.18694633]])"
      ]
     },
     "execution_count": 61,
     "metadata": {},
     "output_type": "execute_result"
    }
   ],
   "source": [
    "array_random_generated = gen(pcg(seed=365))\n",
    "array_random_generated.normal(size=(5,5))"
   ]
  },
  {
   "cell_type": "markdown",
   "id": "be44e6dd",
   "metadata": {},
   "source": [
    "## Generating Integers, Probabilities and Random Choices"
   ]
  },
  {
   "cell_type": "code",
   "execution_count": 70,
   "id": "1e1f1540",
   "metadata": {},
   "outputs": [
    {
     "data": {
      "text/plain": [
       "array([[0, 3],\n",
       "       [2, 3]])"
      ]
     },
     "execution_count": 70,
     "metadata": {},
     "output_type": "execute_result"
    }
   ],
   "source": [
    "array_random_generated = gen(pcg(seed=365))\n",
    "array_random_generated.integers(4, size=(2,2))"
   ]
  },
  {
   "cell_type": "code",
   "execution_count": 71,
   "id": "22b9b132",
   "metadata": {},
   "outputs": [
    {
     "data": {
      "text/plain": [
       "array([[18, 78, 64, 78, 84],\n",
       "       [66, 67, 28, 10, 69],\n",
       "       [45, 15, 37, 74, 96],\n",
       "       [19, 21, 89, 73, 54],\n",
       "       [53, 84, 66, 51, 92]])"
      ]
     },
     "execution_count": 71,
     "metadata": {},
     "output_type": "execute_result"
    }
   ],
   "source": [
    "array_random_generated = gen(pcg(seed=365))\n",
    "array_random_generated.integers(low=10, high=100, size=(5,5))"
   ]
  },
  {
   "cell_type": "code",
   "execution_count": 73,
   "id": "76298bf6",
   "metadata": {},
   "outputs": [
    {
     "data": {
      "text/plain": [
       "array([[0.75915734, 0.7662218 , 0.6291028 , 0.20336599, 0.66501486],\n",
       "       [0.06559111, 0.71326309, 0.10812106, 0.87969046, 0.49405844],\n",
       "       [0.82472673, 0.45652944, 0.07367232, 0.69628564, 0.36690736],\n",
       "       [0.29787156, 0.4996155 , 0.4865245 , 0.62740703, 0.54952637],\n",
       "       [0.64894629, 0.04411757, 0.7206516 , 0.84594003, 0.17159792]])"
      ]
     },
     "execution_count": 73,
     "metadata": {},
     "output_type": "execute_result"
    }
   ],
   "source": [
    "array_random_generated = gen(pcg(seed=365))\n",
    "array_random_generated.random(size=(5,5))"
   ]
  },
  {
   "cell_type": "code",
   "execution_count": 77,
   "id": "3b58cc7a",
   "metadata": {},
   "outputs": [
    {
     "data": {
      "text/plain": [
       "array([[4, 4, 2, 3, 1],\n",
       "       [2, 5, 2, 2, 3],\n",
       "       [2, 5, 2, 2, 5],\n",
       "       [5, 4, 2, 2, 3],\n",
       "       [4, 3, 2, 5, 1]])"
      ]
     },
     "execution_count": 77,
     "metadata": {},
     "output_type": "execute_result"
    }
   ],
   "source": [
    "array_random_generated = gen(pcg(seed=365))\n",
    "array_random_generated.choice([1,2,3,4,5], size=(5,5)) # Passed list value for choice"
   ]
  },
  {
   "cell_type": "code",
   "execution_count": 79,
   "id": "e48f4538",
   "metadata": {},
   "outputs": [
    {
     "data": {
      "text/plain": [
       "array([[4, 4, 4, 2, 4],\n",
       "       [1, 4, 2, 5, 3],\n",
       "       [5, 3, 1, 4, 3],\n",
       "       [2, 3, 3, 4, 3],\n",
       "       [4, 1, 4, 5, 2]])"
      ]
     },
     "execution_count": 79,
     "metadata": {},
     "output_type": "execute_result"
    }
   ],
   "source": [
    "array_random_generated = gen(pcg(seed=365))\n",
    "array_random_generated.choice([1,2,3,4,5], p = [0.1, .2, .3, .2, .2], size=(5,5)) # Passed list value for choice + probability"
   ]
  },
  {
   "cell_type": "markdown",
   "id": "0d63ea5e",
   "metadata": {},
   "source": [
    "## Generating Arrays From Known Distributions"
   ]
  },
  {
   "cell_type": "code",
   "execution_count": 81,
   "id": "74635f80",
   "metadata": {},
   "outputs": [
    {
     "data": {
      "text/plain": [
       "array([[2, 0, 1, 1, 2],\n",
       "       [1, 1, 0, 1, 1],\n",
       "       [1, 2, 1, 1, 0],\n",
       "       [0, 1, 0, 2, 1],\n",
       "       [0, 1, 0, 0, 2]])"
      ]
     },
     "execution_count": 81,
     "metadata": {},
     "output_type": "execute_result"
    }
   ],
   "source": [
    "array_random_generated = gen(pcg(seed=365))\n",
    "array_random_generated.poisson(size=(5,5))"
   ]
  },
  {
   "cell_type": "code",
   "execution_count": 82,
   "id": "204ac9c0",
   "metadata": {},
   "outputs": [
    {
     "data": {
      "text/plain": [
       "array([[11, 12, 12, 14, 13],\n",
       "       [ 9, 10, 11, 11,  8],\n",
       "       [11,  8, 10,  9, 14],\n",
       "       [ 7,  8,  9, 15, 15],\n",
       "       [13,  8,  8,  7,  9]])"
      ]
     },
     "execution_count": 82,
     "metadata": {},
     "output_type": "execute_result"
    }
   ],
   "source": [
    "array_random_generated = gen(pcg(seed=365))\n",
    "array_random_generated.poisson(lam =10, size=(5,5))"
   ]
  },
  {
   "cell_type": "code",
   "execution_count": 87,
   "id": "a8526cbf",
   "metadata": {},
   "outputs": [
    {
     "data": {
      "text/plain": [
       "array([[77, 77, 79, 83, 78],\n",
       "       [86, 78, 85, 75, 80],\n",
       "       [76, 81, 86, 78, 81],\n",
       "       [82, 80, 80, 79, 80],\n",
       "       [79, 87, 78, 76, 84]])"
      ]
     },
     "execution_count": 87,
     "metadata": {},
     "output_type": "execute_result"
    }
   ],
   "source": [
    "array_random_generated = gen(pcg(seed=365))\n",
    "array_random_generated.binomial(n=100, p=0.8, size=(5,5))"
   ]
  },
  {
   "cell_type": "code",
   "execution_count": 88,
   "id": "3d895a0d",
   "metadata": {},
   "outputs": [
    {
     "data": {
      "text/plain": [
       "array([[10.37767822, 10.42451863,  9.63404367,  7.36153427,  9.82286787],\n",
       "       [ 5.81223125, 10.09354231,  6.46790532, 11.38740256,  8.97147918],\n",
       "       [10.85844698,  8.79081317,  5.962079  ,  9.99560681,  8.34539118],\n",
       "       [ 7.97105522,  8.9981544 ,  8.93530194,  9.6253307 ,  9.23850869],\n",
       "       [ 9.73729284,  5.3090678 , 10.13723528, 11.04372782,  7.11078651]])"
      ]
     },
     "execution_count": 88,
     "metadata": {},
     "output_type": "execute_result"
    }
   ],
   "source": [
    "array_random_generated = gen(pcg(seed=365))\n",
    "array_random_generated.logistic(loc=9, scale=1.2, size=(5,5))"
   ]
  },
  {
   "cell_type": "markdown",
   "id": "d84795bc",
   "metadata": {},
   "source": [
    "## Application of Random Generators"
   ]
  },
  {
   "cell_type": "code",
   "execution_count": 97,
   "id": "1d63877d",
   "metadata": {},
   "outputs": [],
   "source": [
    "array_random_generated = gen(pcg(seed=365))\n",
    "array_column_1 = array_random_generated.normal(loc=2, scale=3, size=1000)\n",
    "array_column_2 = array_random_generated.normal(loc=7, scale=2, size=1000)\n",
    "array_column_3 = array_random_generated.logistic(loc=11, scale=3, size=1000)\n",
    "array_column_4 = array_random_generated.exponential(scale=4, size=1000)\n",
    "array_column_5 = array_random_generated.geometric(p=0.7, size=1000)"
   ]
  },
  {
   "cell_type": "code",
   "execution_count": 98,
   "id": "c2774eeb",
   "metadata": {},
   "outputs": [
    {
     "data": {
      "text/plain": [
       "array([[ 1.59077303,  2.28243293,  1.81098674, ...,  0.1973629 ,\n",
       "        -2.21015722,  2.91161235],\n",
       "       [ 6.42174295,  8.57902322,  5.17270135, ...,  4.3465854 ,\n",
       "         8.2176402 ,  7.90337695],\n",
       "       [10.14698427, 15.93309953, -0.46878789, ...,  2.66485989,\n",
       "        12.69328115, 11.79840961],\n",
       "       [ 6.91500737,  6.243605  ,  2.44997251, ...,  0.80935387,\n",
       "         0.50644607,  4.86816939],\n",
       "       [ 1.        ,  1.        ,  1.        , ...,  1.        ,\n",
       "         2.        ,  1.        ]], shape=(5, 1000))"
      ]
     },
     "execution_count": 98,
     "metadata": {},
     "output_type": "execute_result"
    }
   ],
   "source": [
    "random_test_data = np.array([array_column_1, array_column_2, array_column_3, array_column_4, array_column_5])\n",
    "random_test_data"
   ]
  },
  {
   "cell_type": "code",
   "execution_count": 99,
   "id": "22eef823",
   "metadata": {},
   "outputs": [
    {
     "data": {
      "text/plain": [
       "(5, 1000)"
      ]
     },
     "execution_count": 99,
     "metadata": {},
     "output_type": "execute_result"
    }
   ],
   "source": [
    "random_test_data.shape"
   ]
  },
  {
   "cell_type": "code",
   "execution_count": 102,
   "id": "bc4d4dac",
   "metadata": {},
   "outputs": [
    {
     "data": {
      "text/plain": [
       "(1000, 5)"
      ]
     },
     "execution_count": 102,
     "metadata": {},
     "output_type": "execute_result"
    }
   ],
   "source": [
    "random_test_data.transpose()\n",
    "random_test_data.shape"
   ]
  },
  {
   "cell_type": "code",
   "execution_count": 103,
   "id": "da9dc8dd",
   "metadata": {},
   "outputs": [
    {
     "data": {
      "text/plain": [
       "array([[ 1.59077303,  6.42174295, 10.14698427,  6.91500737,  1.        ],\n",
       "       [ 2.28243293,  8.57902322, 15.93309953,  6.243605  ,  1.        ],\n",
       "       [ 1.81098674,  5.17270135, -0.46878789,  2.44997251,  1.        ],\n",
       "       ...,\n",
       "       [ 0.1973629 ,  4.3465854 ,  2.66485989,  0.80935387,  1.        ],\n",
       "       [-2.21015722,  8.2176402 , 12.69328115,  0.50644607,  2.        ],\n",
       "       [ 2.91161235,  7.90337695, 11.79840961,  4.86816939,  1.        ]],\n",
       "      shape=(1000, 5))"
      ]
     },
     "execution_count": 103,
     "metadata": {},
     "output_type": "execute_result"
    }
   ],
   "source": [
    "random_test_data"
   ]
  },
  {
   "cell_type": "code",
   "execution_count": 105,
   "id": "2c05e2e4",
   "metadata": {},
   "outputs": [],
   "source": [
    "np.savetxt(\"Random-Test-from-NumPy.csv\", random_test_data, fmt=\"%s\", delimiter= \",\")"
   ]
  },
  {
   "cell_type": "code",
   "execution_count": 106,
   "id": "a5429e0f",
   "metadata": {},
   "outputs": [
    {
     "data": {
      "text/plain": [
       "array([[ 1.59077303,  6.42174295, 10.14698427,  6.91500737,  1.        ],\n",
       "       [ 2.28243293,  8.57902322, 15.93309953,  6.243605  ,  1.        ],\n",
       "       [ 1.81098674,  5.17270135, -0.46878789,  2.44997251,  1.        ],\n",
       "       ...,\n",
       "       [ 0.1973629 ,  4.3465854 ,  2.66485989,  0.80935387,  1.        ],\n",
       "       [-2.21015722,  8.2176402 , 12.69328115,  0.50644607,  2.        ],\n",
       "       [ 2.91161235,  7.90337695, 11.79840961,  4.86816939,  1.        ]],\n",
       "      shape=(1000, 5))"
      ]
     },
     "execution_count": 106,
     "metadata": {},
     "output_type": "execute_result"
    }
   ],
   "source": [
    "np.genfromtxt(\"Random-Test-from-NumPy.csv\", delimiter=\",\")"
   ]
  },
  {
   "cell_type": "code",
   "execution_count": null,
   "id": "2141a58b",
   "metadata": {},
   "outputs": [],
   "source": []
  }
 ],
 "metadata": {
  "kernelspec": {
   "display_name": "ds_env",
   "language": "python",
   "name": "ds_env"
  },
  "language_info": {
   "codemirror_mode": {
    "name": "ipython",
    "version": 3
   },
   "file_extension": ".py",
   "mimetype": "text/x-python",
   "name": "python",
   "nbconvert_exporter": "python",
   "pygments_lexer": "ipython3",
   "version": "3.12.9"
  }
 },
 "nbformat": 4,
 "nbformat_minor": 5
}
