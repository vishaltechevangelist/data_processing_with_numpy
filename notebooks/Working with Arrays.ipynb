{
 "cells": [
  {
   "cell_type": "markdown",
   "id": "5254db53",
   "metadata": {},
   "source": [
    "## Working with Arrays"
   ]
  },
  {
   "cell_type": "code",
   "execution_count": 1,
   "id": "fc351408",
   "metadata": {},
   "outputs": [],
   "source": [
    "import numpy as np"
   ]
  },
  {
   "cell_type": "code",
   "execution_count": 2,
   "id": "fd054db6",
   "metadata": {},
   "outputs": [
    {
     "data": {
      "text/plain": [
       "array([[1, 2, 3],\n",
       "       [4, 5, 6]])"
      ]
     },
     "execution_count": 2,
     "metadata": {},
     "output_type": "execute_result"
    }
   ],
   "source": [
    "matrix_a = np.array([[1,2,3],[4,5,6]])\n",
    "matrix_a"
   ]
  },
  {
   "cell_type": "markdown",
   "id": "2fd6b08d",
   "metadata": {},
   "source": [
    "## Basic Slicing"
   ]
  },
  {
   "cell_type": "code",
   "execution_count": 3,
   "id": "502a171a",
   "metadata": {},
   "outputs": [
    {
     "data": {
      "text/plain": [
       "array([[1, 2, 3],\n",
       "       [4, 5, 6]])"
      ]
     },
     "execution_count": 3,
     "metadata": {},
     "output_type": "execute_result"
    }
   ],
   "source": [
    "matrix_a[:]"
   ]
  },
  {
   "cell_type": "code",
   "execution_count": 4,
   "id": "ab1627b3",
   "metadata": {},
   "outputs": [
    {
     "data": {
      "text/plain": [
       "array([], shape=(0, 3), dtype=int64)"
      ]
     },
     "execution_count": 4,
     "metadata": {},
     "output_type": "execute_result"
    }
   ],
   "source": [
    "matrix_a[0:0]"
   ]
  },
  {
   "cell_type": "code",
   "execution_count": 7,
   "id": "fcbbcb25",
   "metadata": {},
   "outputs": [
    {
     "data": {
      "text/plain": [
       "(1, 3)"
      ]
     },
     "execution_count": 7,
     "metadata": {},
     "output_type": "execute_result"
    }
   ],
   "source": [
    "matrix_a[0:1].shape"
   ]
  },
  {
   "cell_type": "code",
   "execution_count": 8,
   "id": "36885248",
   "metadata": {},
   "outputs": [
    {
     "data": {
      "text/plain": [
       "array([[1, 2, 3],\n",
       "       [4, 5, 6]])"
      ]
     },
     "execution_count": 8,
     "metadata": {},
     "output_type": "execute_result"
    }
   ],
   "source": [
    "matrix_a[0:2]"
   ]
  },
  {
   "cell_type": "code",
   "execution_count": 10,
   "id": "d749a131",
   "metadata": {},
   "outputs": [
    {
     "data": {
      "text/plain": [
       "numpy.ndarray"
      ]
     },
     "execution_count": 10,
     "metadata": {},
     "output_type": "execute_result"
    }
   ],
   "source": [
    "# column wise slicing\n",
    "type(matrix_a[:,0:1])"
   ]
  },
  {
   "cell_type": "code",
   "execution_count": 11,
   "id": "cfff5664",
   "metadata": {},
   "outputs": [
    {
     "data": {
      "text/plain": [
       "array([[1, 2, 3]])"
      ]
     },
     "execution_count": 11,
     "metadata": {},
     "output_type": "execute_result"
    }
   ],
   "source": [
    "matrix_a[:1] # 1st row"
   ]
  },
  {
   "cell_type": "code",
   "execution_count": 12,
   "id": "ae34dd4e",
   "metadata": {},
   "outputs": [
    {
     "data": {
      "text/plain": [
       "array([[4, 5, 6]])"
      ]
     },
     "execution_count": 12,
     "metadata": {},
     "output_type": "execute_result"
    }
   ],
   "source": [
    "matrix_a[1:] # 2nd row"
   ]
  },
  {
   "cell_type": "code",
   "execution_count": 13,
   "id": "c06cdd63",
   "metadata": {},
   "outputs": [
    {
     "data": {
      "text/plain": [
       "array([], shape=(0, 3), dtype=int64)"
      ]
     },
     "execution_count": 13,
     "metadata": {},
     "output_type": "execute_result"
    }
   ],
   "source": [
    "matrix_a[2:]"
   ]
  },
  {
   "cell_type": "code",
   "execution_count": 14,
   "id": "27574ec0",
   "metadata": {},
   "outputs": [
    {
     "data": {
      "text/plain": [
       "array([[1, 2, 3]])"
      ]
     },
     "execution_count": 14,
     "metadata": {},
     "output_type": "execute_result"
    }
   ],
   "source": [
    "matrix_a[:-1]"
   ]
  },
  {
   "cell_type": "code",
   "execution_count": 15,
   "id": "f8ccecf8",
   "metadata": {},
   "outputs": [
    {
     "data": {
      "text/plain": [
       "array([[2, 3],\n",
       "       [5, 6]])"
      ]
     },
     "execution_count": 15,
     "metadata": {},
     "output_type": "execute_result"
    }
   ],
   "source": [
    "matrix_a[:,1:]"
   ]
  },
  {
   "cell_type": "code",
   "execution_count": 16,
   "id": "e517a273",
   "metadata": {},
   "outputs": [
    {
     "data": {
      "text/plain": [
       "array([[5, 6]])"
      ]
     },
     "execution_count": 16,
     "metadata": {},
     "output_type": "execute_result"
    }
   ],
   "source": [
    "matrix_a[1:,1:]"
   ]
  },
  {
   "cell_type": "markdown",
   "id": "285213ff",
   "metadata": {},
   "source": [
    "## Stepwise Slicing"
   ]
  },
  {
   "cell_type": "code",
   "execution_count": 17,
   "id": "a0bfc83d",
   "metadata": {},
   "outputs": [
    {
     "data": {
      "text/plain": [
       "array([[1, 1, 1, 2, 0],\n",
       "       [3, 6, 6, 7, 4],\n",
       "       [4, 5, 3, 8, 0]])"
      ]
     },
     "execution_count": 17,
     "metadata": {},
     "output_type": "execute_result"
    }
   ],
   "source": [
    "matrix_b = np.array([[1,1,1,2,0], [3,6,6,7,4], [4,5,3,8,0]])\n",
    "matrix_b"
   ]
  },
  {
   "cell_type": "code",
   "execution_count": 18,
   "id": "8b9d8be4",
   "metadata": {},
   "outputs": [
    {
     "name": "stdout",
     "output_type": "stream",
     "text": [
      "2\n",
      "(3, 5)\n"
     ]
    }
   ],
   "source": [
    "print(matrix_b.ndim)\n",
    "print(matrix_b.shape)"
   ]
  },
  {
   "cell_type": "code",
   "execution_count": 19,
   "id": "f0963bf5",
   "metadata": {},
   "outputs": [
    {
     "data": {
      "text/plain": [
       "array([[1, 1, 1, 2, 0],\n",
       "       [3, 6, 6, 7, 4],\n",
       "       [4, 5, 3, 8, 0]])"
      ]
     },
     "execution_count": 19,
     "metadata": {},
     "output_type": "execute_result"
    }
   ],
   "source": [
    "matrix_b[:]"
   ]
  },
  {
   "cell_type": "code",
   "execution_count": 25,
   "id": "ef114878",
   "metadata": {},
   "outputs": [
    {
     "data": {
      "text/plain": [
       "array([[1, 1, 1, 2, 0],\n",
       "       [4, 5, 3, 8, 0]])"
      ]
     },
     "execution_count": 25,
     "metadata": {},
     "output_type": "execute_result"
    }
   ],
   "source": [
    "matrix_b[::2] # slicing every other row i.e 1st and 3rd rows"
   ]
  },
  {
   "cell_type": "code",
   "execution_count": 27,
   "id": "bcd50a63",
   "metadata": {},
   "outputs": [
    {
     "data": {
      "text/plain": [
       "array([[1, 1, 0],\n",
       "       [4, 3, 0]])"
      ]
     },
     "execution_count": 27,
     "metadata": {},
     "output_type": "execute_result"
    }
   ],
   "source": [
    "matrix_b[::2,::2]"
   ]
  },
  {
   "cell_type": "markdown",
   "id": "6ef6cd97",
   "metadata": {},
   "source": [
    "## Conditional Slicing"
   ]
  },
  {
   "cell_type": "code",
   "execution_count": 28,
   "id": "eacf7f42",
   "metadata": {},
   "outputs": [
    {
     "data": {
      "text/plain": [
       "array([[1, 1, 1, 2, 0],\n",
       "       [3, 6, 6, 7, 4],\n",
       "       [4, 5, 3, 8, 0]])"
      ]
     },
     "execution_count": 28,
     "metadata": {},
     "output_type": "execute_result"
    }
   ],
   "source": [
    "matrix_c = np.array([[1,1,1,2,0], [3,6,6,7,4], [4,5,3,8,0]])\n",
    "matrix_c"
   ]
  },
  {
   "cell_type": "code",
   "execution_count": 31,
   "id": "ce8fe5e8",
   "metadata": {},
   "outputs": [
    {
     "data": {
      "text/plain": [
       "array([1, 3, 4])"
      ]
     },
     "execution_count": 31,
     "metadata": {},
     "output_type": "execute_result"
    }
   ],
   "source": [
    "matrix_c[:,0]"
   ]
  },
  {
   "cell_type": "code",
   "execution_count": 32,
   "id": "444ff6e7",
   "metadata": {},
   "outputs": [
    {
     "data": {
      "text/plain": [
       "array([False,  True,  True])"
      ]
     },
     "execution_count": 32,
     "metadata": {},
     "output_type": "execute_result"
    }
   ],
   "source": [
    "# condition like each element is greater than 2\n",
    "matrix_c[:,0] > 2"
   ]
  },
  {
   "cell_type": "code",
   "execution_count": 34,
   "id": "b87f54a7",
   "metadata": {},
   "outputs": [
    {
     "data": {
      "text/plain": [
       "array([[False, False, False, False, False],\n",
       "       [ True,  True,  True,  True,  True],\n",
       "       [ True,  True,  True,  True, False]])"
      ]
     },
     "execution_count": 34,
     "metadata": {},
     "output_type": "execute_result"
    }
   ],
   "source": [
    "matrix_c[:,:] > 2"
   ]
  },
  {
   "cell_type": "code",
   "execution_count": 35,
   "id": "da04bd2c",
   "metadata": {},
   "outputs": [
    {
     "data": {
      "text/plain": [
       "array([3, 6, 6, 7, 4, 4, 5, 3, 8])"
      ]
     },
     "execution_count": 35,
     "metadata": {},
     "output_type": "execute_result"
    }
   ],
   "source": [
    "matrix_c[matrix_c[:,:] > 2]"
   ]
  },
  {
   "cell_type": "code",
   "execution_count": 36,
   "id": "d06827d1",
   "metadata": {},
   "outputs": [
    {
     "data": {
      "text/plain": [
       "array([2, 3, 6, 6, 7, 4, 4, 5, 3, 8])"
      ]
     },
     "execution_count": 36,
     "metadata": {},
     "output_type": "execute_result"
    }
   ],
   "source": [
    "matrix_c[matrix_c[:,:] >= 2]"
   ]
  },
  {
   "cell_type": "code",
   "execution_count": 37,
   "id": "ec03d231",
   "metadata": {},
   "outputs": [
    {
     "data": {
      "text/plain": [
       "array([2, 0, 6, 6, 4, 4, 8, 0])"
      ]
     },
     "execution_count": 37,
     "metadata": {},
     "output_type": "execute_result"
    }
   ],
   "source": [
    "matrix_c[matrix_c[:,:] % 2 == 0]"
   ]
  },
  {
   "cell_type": "code",
   "execution_count": 38,
   "id": "8698b115",
   "metadata": {},
   "outputs": [
    {
     "data": {
      "text/plain": [
       "array([2, 0, 4, 4, 0])"
      ]
     },
     "execution_count": 38,
     "metadata": {},
     "output_type": "execute_result"
    }
   ],
   "source": [
    "# multiple condition\n",
    "matrix_c[(matrix_c[:,:] % 2 == 0) & (matrix_c[:,:] <= 4)]"
   ]
  },
  {
   "cell_type": "code",
   "execution_count": null,
   "id": "fbeb9177",
   "metadata": {},
   "outputs": [],
   "source": []
  }
 ],
 "metadata": {
  "kernelspec": {
   "display_name": "ds_env",
   "language": "python",
   "name": "ds_env"
  },
  "language_info": {
   "codemirror_mode": {
    "name": "ipython",
    "version": 3
   },
   "file_extension": ".py",
   "mimetype": "text/x-python",
   "name": "python",
   "nbconvert_exporter": "python",
   "pygments_lexer": "ipython3",
   "version": "3.12.9"
  }
 },
 "nbformat": 4,
 "nbformat_minor": 5
}
